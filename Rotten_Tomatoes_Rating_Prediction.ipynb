{
 "cells": [
  {
   "cell_type": "code",
   "execution_count": 1,
   "id": "5f857808-7a64-4e74-ad87-4743269ab7d9",
   "metadata": {},
   "outputs": [],
   "source": [
    "import pandas as pd\n",
    "import matplotlib.pyplot as plt\n",
    "import seaborn as sns"
   ]
  },
  {
   "cell_type": "code",
   "execution_count": 2,
   "id": "9fdb4274-eb73-421b-941a-17bdfe1fc7c3",
   "metadata": {},
   "outputs": [],
   "source": [
    "movies = pd.read_csv('rotten_tomatoes_movies.csv')"
   ]
  },
  {
   "cell_type": "code",
   "execution_count": 3,
   "id": "4eea393b-0187-4ae4-8b1c-d22668e3dc1a",
   "metadata": {},
   "outputs": [],
   "source": [
    "critics = pd.read_csv('rotten_tomatoes_critic_reviews_50k.csv')"
   ]
  },
  {
   "cell_type": "code",
   "execution_count": 4,
   "id": "be40dd8f-7ff1-4e1c-95b4-71064b81881b",
   "metadata": {},
   "outputs": [
    {
     "data": {
      "text/html": [
       "<div>\n",
       "<style scoped>\n",
       "    .dataframe tbody tr th:only-of-type {\n",
       "        vertical-align: middle;\n",
       "    }\n",
       "\n",
       "    .dataframe tbody tr th {\n",
       "        vertical-align: top;\n",
       "    }\n",
       "\n",
       "    .dataframe thead th {\n",
       "        text-align: right;\n",
       "    }\n",
       "</style>\n",
       "<table border=\"1\" class=\"dataframe\">\n",
       "  <thead>\n",
       "    <tr style=\"text-align: right;\">\n",
       "      <th></th>\n",
       "      <th>rotten_tomatoes_link</th>\n",
       "      <th>movie_title</th>\n",
       "      <th>movie_info</th>\n",
       "      <th>critics_consensus</th>\n",
       "      <th>content_rating</th>\n",
       "      <th>genres</th>\n",
       "      <th>directors</th>\n",
       "      <th>authors</th>\n",
       "      <th>actors</th>\n",
       "      <th>original_release_date</th>\n",
       "      <th>...</th>\n",
       "      <th>production_company</th>\n",
       "      <th>tomatometer_status</th>\n",
       "      <th>tomatometer_rating</th>\n",
       "      <th>tomatometer_count</th>\n",
       "      <th>audience_status</th>\n",
       "      <th>audience_rating</th>\n",
       "      <th>audience_count</th>\n",
       "      <th>tomatometer_top_critics_count</th>\n",
       "      <th>tomatometer_fresh_critics_count</th>\n",
       "      <th>tomatometer_rotten_critics_count</th>\n",
       "    </tr>\n",
       "  </thead>\n",
       "  <tbody>\n",
       "    <tr>\n",
       "      <th>0</th>\n",
       "      <td>m/0814255</td>\n",
       "      <td>Percy Jackson &amp; the Olympians: The Lightning T...</td>\n",
       "      <td>Always trouble-prone, the life of teenager Per...</td>\n",
       "      <td>Though it may seem like just another Harry Pot...</td>\n",
       "      <td>PG</td>\n",
       "      <td>Action &amp; Adventure, Comedy, Drama, Science Fic...</td>\n",
       "      <td>Chris Columbus</td>\n",
       "      <td>Craig Titley, Chris Columbus, Rick Riordan</td>\n",
       "      <td>Logan Lerman, Brandon T. Jackson, Alexandra Da...</td>\n",
       "      <td>2010-02-12</td>\n",
       "      <td>...</td>\n",
       "      <td>20th Century Fox</td>\n",
       "      <td>Rotten</td>\n",
       "      <td>49.0</td>\n",
       "      <td>149.0</td>\n",
       "      <td>Spilled</td>\n",
       "      <td>53.0</td>\n",
       "      <td>254421.0</td>\n",
       "      <td>43</td>\n",
       "      <td>73</td>\n",
       "      <td>76</td>\n",
       "    </tr>\n",
       "    <tr>\n",
       "      <th>1</th>\n",
       "      <td>m/0878835</td>\n",
       "      <td>Please Give</td>\n",
       "      <td>Kate (Catherine Keener) and her husband Alex (...</td>\n",
       "      <td>Nicole Holofcener's newest might seem slight i...</td>\n",
       "      <td>R</td>\n",
       "      <td>Comedy</td>\n",
       "      <td>Nicole Holofcener</td>\n",
       "      <td>Nicole Holofcener</td>\n",
       "      <td>Catherine Keener, Amanda Peet, Oliver Platt, R...</td>\n",
       "      <td>2010-04-30</td>\n",
       "      <td>...</td>\n",
       "      <td>Sony Pictures Classics</td>\n",
       "      <td>Certified-Fresh</td>\n",
       "      <td>87.0</td>\n",
       "      <td>142.0</td>\n",
       "      <td>Upright</td>\n",
       "      <td>64.0</td>\n",
       "      <td>11574.0</td>\n",
       "      <td>44</td>\n",
       "      <td>123</td>\n",
       "      <td>19</td>\n",
       "    </tr>\n",
       "    <tr>\n",
       "      <th>2</th>\n",
       "      <td>m/10</td>\n",
       "      <td>10</td>\n",
       "      <td>A successful, middle-aged Hollywood songwriter...</td>\n",
       "      <td>Blake Edwards' bawdy comedy may not score a pe...</td>\n",
       "      <td>R</td>\n",
       "      <td>Comedy, Romance</td>\n",
       "      <td>Blake Edwards</td>\n",
       "      <td>Blake Edwards</td>\n",
       "      <td>Dudley Moore, Bo Derek, Julie Andrews, Robert ...</td>\n",
       "      <td>1979-10-05</td>\n",
       "      <td>...</td>\n",
       "      <td>Waner Bros.</td>\n",
       "      <td>Fresh</td>\n",
       "      <td>67.0</td>\n",
       "      <td>24.0</td>\n",
       "      <td>Spilled</td>\n",
       "      <td>53.0</td>\n",
       "      <td>14684.0</td>\n",
       "      <td>2</td>\n",
       "      <td>16</td>\n",
       "      <td>8</td>\n",
       "    </tr>\n",
       "    <tr>\n",
       "      <th>3</th>\n",
       "      <td>m/1000013-12_angry_men</td>\n",
       "      <td>12 Angry Men (Twelve Angry Men)</td>\n",
       "      <td>Following the closing arguments in a murder tr...</td>\n",
       "      <td>Sidney Lumet's feature debut is a superbly wri...</td>\n",
       "      <td>NR</td>\n",
       "      <td>Classics, Drama</td>\n",
       "      <td>Sidney Lumet</td>\n",
       "      <td>Reginald Rose</td>\n",
       "      <td>Martin Balsam, John Fiedler, Lee J. Cobb, E.G....</td>\n",
       "      <td>1957-04-13</td>\n",
       "      <td>...</td>\n",
       "      <td>Criterion Collection</td>\n",
       "      <td>Certified-Fresh</td>\n",
       "      <td>100.0</td>\n",
       "      <td>54.0</td>\n",
       "      <td>Upright</td>\n",
       "      <td>97.0</td>\n",
       "      <td>105386.0</td>\n",
       "      <td>6</td>\n",
       "      <td>54</td>\n",
       "      <td>0</td>\n",
       "    </tr>\n",
       "    <tr>\n",
       "      <th>4</th>\n",
       "      <td>m/1000079-20000_leagues_under_the_sea</td>\n",
       "      <td>20,000 Leagues Under The Sea</td>\n",
       "      <td>In 1866, Professor Pierre M. Aronnax (Paul Luk...</td>\n",
       "      <td>One of Disney's finest live-action adventures,...</td>\n",
       "      <td>G</td>\n",
       "      <td>Action &amp; Adventure, Drama, Kids &amp; Family</td>\n",
       "      <td>Richard Fleischer</td>\n",
       "      <td>Earl Felton</td>\n",
       "      <td>James Mason, Kirk Douglas, Paul Lukas, Peter L...</td>\n",
       "      <td>1954-01-01</td>\n",
       "      <td>...</td>\n",
       "      <td>Disney</td>\n",
       "      <td>Fresh</td>\n",
       "      <td>89.0</td>\n",
       "      <td>27.0</td>\n",
       "      <td>Upright</td>\n",
       "      <td>74.0</td>\n",
       "      <td>68918.0</td>\n",
       "      <td>5</td>\n",
       "      <td>24</td>\n",
       "      <td>3</td>\n",
       "    </tr>\n",
       "  </tbody>\n",
       "</table>\n",
       "<p>5 rows × 22 columns</p>\n",
       "</div>"
      ],
      "text/plain": [
       "                    rotten_tomatoes_link  \\\n",
       "0                              m/0814255   \n",
       "1                              m/0878835   \n",
       "2                                   m/10   \n",
       "3                 m/1000013-12_angry_men   \n",
       "4  m/1000079-20000_leagues_under_the_sea   \n",
       "\n",
       "                                         movie_title  \\\n",
       "0  Percy Jackson & the Olympians: The Lightning T...   \n",
       "1                                        Please Give   \n",
       "2                                                 10   \n",
       "3                    12 Angry Men (Twelve Angry Men)   \n",
       "4                       20,000 Leagues Under The Sea   \n",
       "\n",
       "                                          movie_info  \\\n",
       "0  Always trouble-prone, the life of teenager Per...   \n",
       "1  Kate (Catherine Keener) and her husband Alex (...   \n",
       "2  A successful, middle-aged Hollywood songwriter...   \n",
       "3  Following the closing arguments in a murder tr...   \n",
       "4  In 1866, Professor Pierre M. Aronnax (Paul Luk...   \n",
       "\n",
       "                                   critics_consensus content_rating  \\\n",
       "0  Though it may seem like just another Harry Pot...             PG   \n",
       "1  Nicole Holofcener's newest might seem slight i...              R   \n",
       "2  Blake Edwards' bawdy comedy may not score a pe...              R   \n",
       "3  Sidney Lumet's feature debut is a superbly wri...             NR   \n",
       "4  One of Disney's finest live-action adventures,...              G   \n",
       "\n",
       "                                              genres          directors  \\\n",
       "0  Action & Adventure, Comedy, Drama, Science Fic...     Chris Columbus   \n",
       "1                                             Comedy  Nicole Holofcener   \n",
       "2                                    Comedy, Romance      Blake Edwards   \n",
       "3                                    Classics, Drama       Sidney Lumet   \n",
       "4           Action & Adventure, Drama, Kids & Family  Richard Fleischer   \n",
       "\n",
       "                                      authors  \\\n",
       "0  Craig Titley, Chris Columbus, Rick Riordan   \n",
       "1                           Nicole Holofcener   \n",
       "2                               Blake Edwards   \n",
       "3                               Reginald Rose   \n",
       "4                                 Earl Felton   \n",
       "\n",
       "                                              actors original_release_date  \\\n",
       "0  Logan Lerman, Brandon T. Jackson, Alexandra Da...            2010-02-12   \n",
       "1  Catherine Keener, Amanda Peet, Oliver Platt, R...            2010-04-30   \n",
       "2  Dudley Moore, Bo Derek, Julie Andrews, Robert ...            1979-10-05   \n",
       "3  Martin Balsam, John Fiedler, Lee J. Cobb, E.G....            1957-04-13   \n",
       "4  James Mason, Kirk Douglas, Paul Lukas, Peter L...            1954-01-01   \n",
       "\n",
       "   ...      production_company  tomatometer_status tomatometer_rating  \\\n",
       "0  ...        20th Century Fox              Rotten               49.0   \n",
       "1  ...  Sony Pictures Classics     Certified-Fresh               87.0   \n",
       "2  ...             Waner Bros.               Fresh               67.0   \n",
       "3  ...    Criterion Collection     Certified-Fresh              100.0   \n",
       "4  ...                  Disney               Fresh               89.0   \n",
       "\n",
       "  tomatometer_count  audience_status  audience_rating audience_count  \\\n",
       "0             149.0          Spilled             53.0       254421.0   \n",
       "1             142.0          Upright             64.0        11574.0   \n",
       "2              24.0          Spilled             53.0        14684.0   \n",
       "3              54.0          Upright             97.0       105386.0   \n",
       "4              27.0          Upright             74.0        68918.0   \n",
       "\n",
       "   tomatometer_top_critics_count  tomatometer_fresh_critics_count  \\\n",
       "0                             43                               73   \n",
       "1                             44                              123   \n",
       "2                              2                               16   \n",
       "3                              6                               54   \n",
       "4                              5                               24   \n",
       "\n",
       "   tomatometer_rotten_critics_count  \n",
       "0                                76  \n",
       "1                                19  \n",
       "2                                 8  \n",
       "3                                 0  \n",
       "4                                 3  \n",
       "\n",
       "[5 rows x 22 columns]"
      ]
     },
     "execution_count": 4,
     "metadata": {},
     "output_type": "execute_result"
    }
   ],
   "source": [
    "movies.head(5)"
   ]
  },
  {
   "cell_type": "code",
   "execution_count": 5,
   "id": "78e28e4a-872c-4f5c-98d8-460a62029cb6",
   "metadata": {},
   "outputs": [
    {
     "data": {
      "text/plain": [
       "(17712, 22)"
      ]
     },
     "execution_count": 5,
     "metadata": {},
     "output_type": "execute_result"
    }
   ],
   "source": [
    "movies.shape"
   ]
  },
  {
   "cell_type": "code",
   "execution_count": 6,
   "id": "a7a87c87-c7b4-4a51-9893-3614f53b5d31",
   "metadata": {},
   "outputs": [
    {
     "data": {
      "text/plain": [
       "Index(['rotten_tomatoes_link', 'movie_title', 'movie_info',\n",
       "       'critics_consensus', 'content_rating', 'genres', 'directors', 'authors',\n",
       "       'actors', 'original_release_date', 'streaming_release_date', 'runtime',\n",
       "       'production_company', 'tomatometer_status', 'tomatometer_rating',\n",
       "       'tomatometer_count', 'audience_status', 'audience_rating',\n",
       "       'audience_count', 'tomatometer_top_critics_count',\n",
       "       'tomatometer_fresh_critics_count', 'tomatometer_rotten_critics_count'],\n",
       "      dtype='object')"
      ]
     },
     "execution_count": 6,
     "metadata": {},
     "output_type": "execute_result"
    }
   ],
   "source": [
    "movies.columns"
   ]
  },
  {
   "cell_type": "code",
   "execution_count": 7,
   "id": "0ac8744a-a52d-4c39-a620-85f33709d723",
   "metadata": {},
   "outputs": [
    {
     "data": {
      "text/plain": [
       "<bound method Series.info of 0                 Rotten\n",
       "1        Certified-Fresh\n",
       "2                  Fresh\n",
       "3        Certified-Fresh\n",
       "4                  Fresh\n",
       "              ...       \n",
       "17707             Rotten\n",
       "17708    Certified-Fresh\n",
       "17709              Fresh\n",
       "17710              Fresh\n",
       "17711             Rotten\n",
       "Name: tomatometer_status, Length: 17712, dtype: object>"
      ]
     },
     "execution_count": 7,
     "metadata": {},
     "output_type": "execute_result"
    }
   ],
   "source": [
    "movies.tomatometer_status.info"
   ]
  },
  {
   "cell_type": "code",
   "execution_count": 8,
   "id": "598badc4-1dad-4db3-af95-4281ebaeaf2b",
   "metadata": {},
   "outputs": [
    {
     "data": {
      "text/html": [
       "<div>\n",
       "<style scoped>\n",
       "    .dataframe tbody tr th:only-of-type {\n",
       "        vertical-align: middle;\n",
       "    }\n",
       "\n",
       "    .dataframe tbody tr th {\n",
       "        vertical-align: top;\n",
       "    }\n",
       "\n",
       "    .dataframe thead th {\n",
       "        text-align: right;\n",
       "    }\n",
       "</style>\n",
       "<table border=\"1\" class=\"dataframe\">\n",
       "  <thead>\n",
       "    <tr style=\"text-align: right;\">\n",
       "      <th></th>\n",
       "      <th>rotten_tomatoes_link</th>\n",
       "      <th>critic_name</th>\n",
       "      <th>top_critic</th>\n",
       "      <th>publisher_name</th>\n",
       "      <th>review_type</th>\n",
       "      <th>review_score</th>\n",
       "      <th>review_date</th>\n",
       "      <th>review_content</th>\n",
       "    </tr>\n",
       "  </thead>\n",
       "  <tbody>\n",
       "    <tr>\n",
       "      <th>0</th>\n",
       "      <td>m/0814255</td>\n",
       "      <td>Andrew L. Urban</td>\n",
       "      <td>False</td>\n",
       "      <td>Urban Cinefile</td>\n",
       "      <td>Fresh</td>\n",
       "      <td>NaN</td>\n",
       "      <td>2010-02-06</td>\n",
       "      <td>A fantasy adventure that fuses Greek mythology...</td>\n",
       "    </tr>\n",
       "    <tr>\n",
       "      <th>1</th>\n",
       "      <td>m/0814255</td>\n",
       "      <td>Louise Keller</td>\n",
       "      <td>False</td>\n",
       "      <td>Urban Cinefile</td>\n",
       "      <td>Fresh</td>\n",
       "      <td>NaN</td>\n",
       "      <td>2010-02-06</td>\n",
       "      <td>Uma Thurman as Medusa, the gorgon with a coiff...</td>\n",
       "    </tr>\n",
       "    <tr>\n",
       "      <th>2</th>\n",
       "      <td>m/0814255</td>\n",
       "      <td>NaN</td>\n",
       "      <td>False</td>\n",
       "      <td>FILMINK (Australia)</td>\n",
       "      <td>Fresh</td>\n",
       "      <td>NaN</td>\n",
       "      <td>2010-02-09</td>\n",
       "      <td>With a top-notch cast and dazzling special eff...</td>\n",
       "    </tr>\n",
       "    <tr>\n",
       "      <th>3</th>\n",
       "      <td>m/0814255</td>\n",
       "      <td>Ben McEachen</td>\n",
       "      <td>False</td>\n",
       "      <td>Sunday Mail (Australia)</td>\n",
       "      <td>Fresh</td>\n",
       "      <td>3.5/5</td>\n",
       "      <td>2010-02-09</td>\n",
       "      <td>Whether audiences will get behind The Lightnin...</td>\n",
       "    </tr>\n",
       "    <tr>\n",
       "      <th>4</th>\n",
       "      <td>m/0814255</td>\n",
       "      <td>Ethan Alter</td>\n",
       "      <td>True</td>\n",
       "      <td>Hollywood Reporter</td>\n",
       "      <td>Rotten</td>\n",
       "      <td>NaN</td>\n",
       "      <td>2010-02-10</td>\n",
       "      <td>What's really lacking in The Lightning Thief i...</td>\n",
       "    </tr>\n",
       "  </tbody>\n",
       "</table>\n",
       "</div>"
      ],
      "text/plain": [
       "  rotten_tomatoes_link      critic_name  top_critic           publisher_name  \\\n",
       "0            m/0814255  Andrew L. Urban       False           Urban Cinefile   \n",
       "1            m/0814255    Louise Keller       False           Urban Cinefile   \n",
       "2            m/0814255              NaN       False      FILMINK (Australia)   \n",
       "3            m/0814255     Ben McEachen       False  Sunday Mail (Australia)   \n",
       "4            m/0814255      Ethan Alter        True       Hollywood Reporter   \n",
       "\n",
       "  review_type review_score review_date  \\\n",
       "0       Fresh          NaN  2010-02-06   \n",
       "1       Fresh          NaN  2010-02-06   \n",
       "2       Fresh          NaN  2010-02-09   \n",
       "3       Fresh        3.5/5  2010-02-09   \n",
       "4      Rotten          NaN  2010-02-10   \n",
       "\n",
       "                                      review_content  \n",
       "0  A fantasy adventure that fuses Greek mythology...  \n",
       "1  Uma Thurman as Medusa, the gorgon with a coiff...  \n",
       "2  With a top-notch cast and dazzling special eff...  \n",
       "3  Whether audiences will get behind The Lightnin...  \n",
       "4  What's really lacking in The Lightning Thief i...  "
      ]
     },
     "execution_count": 8,
     "metadata": {},
     "output_type": "execute_result"
    }
   ],
   "source": [
    "critics.head()"
   ]
  },
  {
   "cell_type": "code",
   "execution_count": 9,
   "id": "6c95e423-8e9c-4339-bffc-9ce3a4a156bb",
   "metadata": {},
   "outputs": [
    {
     "data": {
      "text/plain": [
       "<bound method Series.info of 0         Fresh\n",
       "1         Fresh\n",
       "2         Fresh\n",
       "3         Fresh\n",
       "4        Rotten\n",
       "          ...  \n",
       "49995    Rotten\n",
       "49996    Rotten\n",
       "49997    Rotten\n",
       "49998    Rotten\n",
       "49999    Rotten\n",
       "Name: review_type, Length: 50000, dtype: object>"
      ]
     },
     "execution_count": 9,
     "metadata": {},
     "output_type": "execute_result"
    }
   ],
   "source": [
    "critics.review_type.info"
   ]
  },
  {
   "cell_type": "code",
   "execution_count": 10,
   "id": "4c40edce-94c9-4675-a439-0a2dba0cbdb5",
   "metadata": {},
   "outputs": [
    {
     "data": {
      "text/plain": [
       "review_type\n",
       "Fresh     30796\n",
       "Rotten    19204\n",
       "Name: count, dtype: int64"
      ]
     },
     "execution_count": 10,
     "metadata": {},
     "output_type": "execute_result"
    }
   ],
   "source": [
    "critics.review_type.value_counts()"
   ]
  },
  {
   "cell_type": "code",
   "execution_count": 11,
   "id": "8a4c3b20-853b-4ca8-a3b1-70d4b14b1ac7",
   "metadata": {},
   "outputs": [
    {
     "data": {
      "text/plain": [
       "rotten_tomatoes_link        0\n",
       "critic_name              1932\n",
       "top_critic                  0\n",
       "publisher_name              0\n",
       "review_type                 0\n",
       "review_score            13591\n",
       "review_date                 0\n",
       "review_content           8805\n",
       "dtype: int64"
      ]
     },
     "execution_count": 11,
     "metadata": {},
     "output_type": "execute_result"
    }
   ],
   "source": [
    "critics.isnull().sum()"
   ]
  },
  {
   "cell_type": "code",
   "execution_count": 12,
   "id": "3f8a828a-b7f2-451c-82f7-2dab9a5ec906",
   "metadata": {},
   "outputs": [
    {
     "data": {
      "text/plain": [
       "(50000, 8)"
      ]
     },
     "execution_count": 12,
     "metadata": {},
     "output_type": "execute_result"
    }
   ],
   "source": [
    "critics.shape"
   ]
  },
  {
   "cell_type": "code",
   "execution_count": 13,
   "id": "370ec1ad-5023-4c23-a5d1-09a5534fbaae",
   "metadata": {},
   "outputs": [],
   "source": [
    "df = pd.merge(critics, movies, how='inner', on='rotten_tomatoes_link')"
   ]
  },
  {
   "cell_type": "code",
   "execution_count": 14,
   "id": "1c50dd11-dd4e-402c-849f-d6f447392ff7",
   "metadata": {},
   "outputs": [
    {
     "data": {
      "text/html": [
       "<div>\n",
       "<style scoped>\n",
       "    .dataframe tbody tr th:only-of-type {\n",
       "        vertical-align: middle;\n",
       "    }\n",
       "\n",
       "    .dataframe tbody tr th {\n",
       "        vertical-align: top;\n",
       "    }\n",
       "\n",
       "    .dataframe thead th {\n",
       "        text-align: right;\n",
       "    }\n",
       "</style>\n",
       "<table border=\"1\" class=\"dataframe\">\n",
       "  <thead>\n",
       "    <tr style=\"text-align: right;\">\n",
       "      <th></th>\n",
       "      <th>rotten_tomatoes_link</th>\n",
       "      <th>critic_name</th>\n",
       "      <th>top_critic</th>\n",
       "      <th>publisher_name</th>\n",
       "      <th>review_type</th>\n",
       "      <th>review_score</th>\n",
       "      <th>review_date</th>\n",
       "      <th>review_content</th>\n",
       "      <th>movie_title</th>\n",
       "      <th>movie_info</th>\n",
       "      <th>...</th>\n",
       "      <th>production_company</th>\n",
       "      <th>tomatometer_status</th>\n",
       "      <th>tomatometer_rating</th>\n",
       "      <th>tomatometer_count</th>\n",
       "      <th>audience_status</th>\n",
       "      <th>audience_rating</th>\n",
       "      <th>audience_count</th>\n",
       "      <th>tomatometer_top_critics_count</th>\n",
       "      <th>tomatometer_fresh_critics_count</th>\n",
       "      <th>tomatometer_rotten_critics_count</th>\n",
       "    </tr>\n",
       "  </thead>\n",
       "  <tbody>\n",
       "    <tr>\n",
       "      <th>0</th>\n",
       "      <td>m/0814255</td>\n",
       "      <td>Andrew L. Urban</td>\n",
       "      <td>False</td>\n",
       "      <td>Urban Cinefile</td>\n",
       "      <td>Fresh</td>\n",
       "      <td>NaN</td>\n",
       "      <td>2010-02-06</td>\n",
       "      <td>A fantasy adventure that fuses Greek mythology...</td>\n",
       "      <td>Percy Jackson &amp; the Olympians: The Lightning T...</td>\n",
       "      <td>Always trouble-prone, the life of teenager Per...</td>\n",
       "      <td>...</td>\n",
       "      <td>20th Century Fox</td>\n",
       "      <td>Rotten</td>\n",
       "      <td>49.0</td>\n",
       "      <td>149.0</td>\n",
       "      <td>Spilled</td>\n",
       "      <td>53.0</td>\n",
       "      <td>254421.0</td>\n",
       "      <td>43</td>\n",
       "      <td>73</td>\n",
       "      <td>76</td>\n",
       "    </tr>\n",
       "    <tr>\n",
       "      <th>1</th>\n",
       "      <td>m/0814255</td>\n",
       "      <td>Louise Keller</td>\n",
       "      <td>False</td>\n",
       "      <td>Urban Cinefile</td>\n",
       "      <td>Fresh</td>\n",
       "      <td>NaN</td>\n",
       "      <td>2010-02-06</td>\n",
       "      <td>Uma Thurman as Medusa, the gorgon with a coiff...</td>\n",
       "      <td>Percy Jackson &amp; the Olympians: The Lightning T...</td>\n",
       "      <td>Always trouble-prone, the life of teenager Per...</td>\n",
       "      <td>...</td>\n",
       "      <td>20th Century Fox</td>\n",
       "      <td>Rotten</td>\n",
       "      <td>49.0</td>\n",
       "      <td>149.0</td>\n",
       "      <td>Spilled</td>\n",
       "      <td>53.0</td>\n",
       "      <td>254421.0</td>\n",
       "      <td>43</td>\n",
       "      <td>73</td>\n",
       "      <td>76</td>\n",
       "    </tr>\n",
       "    <tr>\n",
       "      <th>2</th>\n",
       "      <td>m/0814255</td>\n",
       "      <td>NaN</td>\n",
       "      <td>False</td>\n",
       "      <td>FILMINK (Australia)</td>\n",
       "      <td>Fresh</td>\n",
       "      <td>NaN</td>\n",
       "      <td>2010-02-09</td>\n",
       "      <td>With a top-notch cast and dazzling special eff...</td>\n",
       "      <td>Percy Jackson &amp; the Olympians: The Lightning T...</td>\n",
       "      <td>Always trouble-prone, the life of teenager Per...</td>\n",
       "      <td>...</td>\n",
       "      <td>20th Century Fox</td>\n",
       "      <td>Rotten</td>\n",
       "      <td>49.0</td>\n",
       "      <td>149.0</td>\n",
       "      <td>Spilled</td>\n",
       "      <td>53.0</td>\n",
       "      <td>254421.0</td>\n",
       "      <td>43</td>\n",
       "      <td>73</td>\n",
       "      <td>76</td>\n",
       "    </tr>\n",
       "    <tr>\n",
       "      <th>3</th>\n",
       "      <td>m/0814255</td>\n",
       "      <td>Ben McEachen</td>\n",
       "      <td>False</td>\n",
       "      <td>Sunday Mail (Australia)</td>\n",
       "      <td>Fresh</td>\n",
       "      <td>3.5/5</td>\n",
       "      <td>2010-02-09</td>\n",
       "      <td>Whether audiences will get behind The Lightnin...</td>\n",
       "      <td>Percy Jackson &amp; the Olympians: The Lightning T...</td>\n",
       "      <td>Always trouble-prone, the life of teenager Per...</td>\n",
       "      <td>...</td>\n",
       "      <td>20th Century Fox</td>\n",
       "      <td>Rotten</td>\n",
       "      <td>49.0</td>\n",
       "      <td>149.0</td>\n",
       "      <td>Spilled</td>\n",
       "      <td>53.0</td>\n",
       "      <td>254421.0</td>\n",
       "      <td>43</td>\n",
       "      <td>73</td>\n",
       "      <td>76</td>\n",
       "    </tr>\n",
       "    <tr>\n",
       "      <th>4</th>\n",
       "      <td>m/0814255</td>\n",
       "      <td>Ethan Alter</td>\n",
       "      <td>True</td>\n",
       "      <td>Hollywood Reporter</td>\n",
       "      <td>Rotten</td>\n",
       "      <td>NaN</td>\n",
       "      <td>2010-02-10</td>\n",
       "      <td>What's really lacking in The Lightning Thief i...</td>\n",
       "      <td>Percy Jackson &amp; the Olympians: The Lightning T...</td>\n",
       "      <td>Always trouble-prone, the life of teenager Per...</td>\n",
       "      <td>...</td>\n",
       "      <td>20th Century Fox</td>\n",
       "      <td>Rotten</td>\n",
       "      <td>49.0</td>\n",
       "      <td>149.0</td>\n",
       "      <td>Spilled</td>\n",
       "      <td>53.0</td>\n",
       "      <td>254421.0</td>\n",
       "      <td>43</td>\n",
       "      <td>73</td>\n",
       "      <td>76</td>\n",
       "    </tr>\n",
       "  </tbody>\n",
       "</table>\n",
       "<p>5 rows × 29 columns</p>\n",
       "</div>"
      ],
      "text/plain": [
       "  rotten_tomatoes_link      critic_name  top_critic           publisher_name  \\\n",
       "0            m/0814255  Andrew L. Urban       False           Urban Cinefile   \n",
       "1            m/0814255    Louise Keller       False           Urban Cinefile   \n",
       "2            m/0814255              NaN       False      FILMINK (Australia)   \n",
       "3            m/0814255     Ben McEachen       False  Sunday Mail (Australia)   \n",
       "4            m/0814255      Ethan Alter        True       Hollywood Reporter   \n",
       "\n",
       "  review_type review_score review_date  \\\n",
       "0       Fresh          NaN  2010-02-06   \n",
       "1       Fresh          NaN  2010-02-06   \n",
       "2       Fresh          NaN  2010-02-09   \n",
       "3       Fresh        3.5/5  2010-02-09   \n",
       "4      Rotten          NaN  2010-02-10   \n",
       "\n",
       "                                      review_content  \\\n",
       "0  A fantasy adventure that fuses Greek mythology...   \n",
       "1  Uma Thurman as Medusa, the gorgon with a coiff...   \n",
       "2  With a top-notch cast and dazzling special eff...   \n",
       "3  Whether audiences will get behind The Lightnin...   \n",
       "4  What's really lacking in The Lightning Thief i...   \n",
       "\n",
       "                                         movie_title  \\\n",
       "0  Percy Jackson & the Olympians: The Lightning T...   \n",
       "1  Percy Jackson & the Olympians: The Lightning T...   \n",
       "2  Percy Jackson & the Olympians: The Lightning T...   \n",
       "3  Percy Jackson & the Olympians: The Lightning T...   \n",
       "4  Percy Jackson & the Olympians: The Lightning T...   \n",
       "\n",
       "                                          movie_info  ... production_company  \\\n",
       "0  Always trouble-prone, the life of teenager Per...  ...   20th Century Fox   \n",
       "1  Always trouble-prone, the life of teenager Per...  ...   20th Century Fox   \n",
       "2  Always trouble-prone, the life of teenager Per...  ...   20th Century Fox   \n",
       "3  Always trouble-prone, the life of teenager Per...  ...   20th Century Fox   \n",
       "4  Always trouble-prone, the life of teenager Per...  ...   20th Century Fox   \n",
       "\n",
       "  tomatometer_status tomatometer_rating tomatometer_count audience_status  \\\n",
       "0             Rotten               49.0             149.0         Spilled   \n",
       "1             Rotten               49.0             149.0         Spilled   \n",
       "2             Rotten               49.0             149.0         Spilled   \n",
       "3             Rotten               49.0             149.0         Spilled   \n",
       "4             Rotten               49.0             149.0         Spilled   \n",
       "\n",
       "  audience_rating audience_count tomatometer_top_critics_count  \\\n",
       "0            53.0       254421.0                            43   \n",
       "1            53.0       254421.0                            43   \n",
       "2            53.0       254421.0                            43   \n",
       "3            53.0       254421.0                            43   \n",
       "4            53.0       254421.0                            43   \n",
       "\n",
       "   tomatometer_fresh_critics_count tomatometer_rotten_critics_count  \n",
       "0                               73                               76  \n",
       "1                               73                               76  \n",
       "2                               73                               76  \n",
       "3                               73                               76  \n",
       "4                               73                               76  \n",
       "\n",
       "[5 rows x 29 columns]"
      ]
     },
     "execution_count": 14,
     "metadata": {},
     "output_type": "execute_result"
    }
   ],
   "source": [
    "df.head()"
   ]
  },
  {
   "cell_type": "code",
   "execution_count": 15,
   "id": "a17700ef-1f1c-40b2-b9f5-e4efe5ea1ada",
   "metadata": {},
   "outputs": [
    {
     "data": {
      "text/plain": [
       "(50000, 29)"
      ]
     },
     "execution_count": 15,
     "metadata": {},
     "output_type": "execute_result"
    }
   ],
   "source": [
    "df.shape"
   ]
  },
  {
   "cell_type": "code",
   "execution_count": 16,
   "id": "b278ed1c-92fc-46d5-9b9a-fc8578e94e70",
   "metadata": {},
   "outputs": [
    {
     "data": {
      "text/plain": [
       "rotten_tomatoes_link                False\n",
       "critic_name                          True\n",
       "top_critic                          False\n",
       "publisher_name                      False\n",
       "review_type                         False\n",
       "review_score                         True\n",
       "review_date                         False\n",
       "review_content                       True\n",
       "movie_title                         False\n",
       "movie_info                           True\n",
       "critics_consensus                    True\n",
       "content_rating                      False\n",
       "genres                              False\n",
       "directors                            True\n",
       "authors                              True\n",
       "actors                               True\n",
       "original_release_date                True\n",
       "streaming_release_date               True\n",
       "runtime                              True\n",
       "production_company                   True\n",
       "tomatometer_status                   True\n",
       "tomatometer_rating                   True\n",
       "tomatometer_count                    True\n",
       "audience_status                      True\n",
       "audience_rating                      True\n",
       "audience_count                       True\n",
       "tomatometer_top_critics_count       False\n",
       "tomatometer_fresh_critics_count     False\n",
       "tomatometer_rotten_critics_count    False\n",
       "dtype: bool"
      ]
     },
     "execution_count": 16,
     "metadata": {},
     "output_type": "execute_result"
    }
   ],
   "source": [
    "df.isnull().any()"
   ]
  },
  {
   "cell_type": "code",
   "execution_count": 17,
   "id": "39ab4ffe-500f-4bb5-b64c-e39f92ca4a91",
   "metadata": {},
   "outputs": [
    {
     "data": {
      "text/plain": [
       "rotten_tomatoes_link                    0\n",
       "critic_name                          1932\n",
       "top_critic                              0\n",
       "publisher_name                          0\n",
       "review_type                             0\n",
       "review_score                        13591\n",
       "review_date                             0\n",
       "review_content                       8805\n",
       "movie_title                             0\n",
       "movie_info                            347\n",
       "critics_consensus                    9796\n",
       "content_rating                          0\n",
       "genres                                  0\n",
       "directors                             296\n",
       "authors                              1382\n",
       "actors                                179\n",
       "original_release_date                 734\n",
       "streaming_release_date                454\n",
       "runtime                               355\n",
       "production_company                    178\n",
       "tomatometer_status                     43\n",
       "tomatometer_rating                     43\n",
       "tomatometer_count                      43\n",
       "audience_status                        84\n",
       "audience_rating                        84\n",
       "audience_count                         84\n",
       "tomatometer_top_critics_count           0\n",
       "tomatometer_fresh_critics_count         0\n",
       "tomatometer_rotten_critics_count        0\n",
       "dtype: int64"
      ]
     },
     "execution_count": 17,
     "metadata": {},
     "output_type": "execute_result"
    }
   ],
   "source": [
    "df.isnull().sum()"
   ]
  },
  {
   "cell_type": "markdown",
   "id": "de0facf3-9fe2-4412-b92d-6e1a18a0c660",
   "metadata": {},
   "source": [
    "We drop rows with NaN values."
   ]
  },
  {
   "cell_type": "code",
   "execution_count": 19,
   "id": "c4b4f477-866e-404d-b7e3-804bb5a10020",
   "metadata": {},
   "outputs": [],
   "source": [
    "df2 = df.dropna(subset=[\"tomatometer_status\", \"movie_info\", \"critics_consensus\", \"directors\", \"authors\", \"original_release_date\", \\\n",
    "                        \"streaming_release_date\", \"runtime\", \"critic_name\", \"review_score\", \"review_content\", \"actors\", \\\n",
    "                        \"production_company\", \"audience_status\", \"audience_rating\", \"audience_count\"])"
   ]
  },
  {
   "cell_type": "code",
   "execution_count": 20,
   "id": "f822ea0d-5b82-429a-98bc-6665bed8470b",
   "metadata": {},
   "outputs": [
    {
     "data": {
      "text/plain": [
       "(21856, 29)"
      ]
     },
     "execution_count": 20,
     "metadata": {},
     "output_type": "execute_result"
    }
   ],
   "source": [
    "df2.shape"
   ]
  },
  {
   "cell_type": "code",
   "execution_count": 21,
   "id": "a03b9d6d-20cd-4846-a5f4-385abc8f6e4e",
   "metadata": {},
   "outputs": [
    {
     "data": {
      "text/plain": [
       "rotten_tomatoes_link                0\n",
       "critic_name                         0\n",
       "top_critic                          0\n",
       "publisher_name                      0\n",
       "review_type                         0\n",
       "review_score                        0\n",
       "review_date                         0\n",
       "review_content                      0\n",
       "movie_title                         0\n",
       "movie_info                          0\n",
       "critics_consensus                   0\n",
       "content_rating                      0\n",
       "genres                              0\n",
       "directors                           0\n",
       "authors                             0\n",
       "actors                              0\n",
       "original_release_date               0\n",
       "streaming_release_date              0\n",
       "runtime                             0\n",
       "production_company                  0\n",
       "tomatometer_status                  0\n",
       "tomatometer_rating                  0\n",
       "tomatometer_count                   0\n",
       "audience_status                     0\n",
       "audience_rating                     0\n",
       "audience_count                      0\n",
       "tomatometer_top_critics_count       0\n",
       "tomatometer_fresh_critics_count     0\n",
       "tomatometer_rotten_critics_count    0\n",
       "dtype: int64"
      ]
     },
     "execution_count": 21,
     "metadata": {},
     "output_type": "execute_result"
    }
   ],
   "source": [
    "df2.isnull().sum()"
   ]
  },
  {
   "cell_type": "code",
   "execution_count": 22,
   "id": "eef01b59-846d-4c21-b599-be7e114f616f",
   "metadata": {},
   "outputs": [],
   "source": [
    "df_cleaned = df2.drop_duplicates()"
   ]
  },
  {
   "cell_type": "code",
   "execution_count": 23,
   "id": "3905e0f9-55c0-4402-b9fd-44e32a6f26aa",
   "metadata": {},
   "outputs": [
    {
     "data": {
      "text/plain": [
       "(21855, 29)"
      ]
     },
     "execution_count": 23,
     "metadata": {},
     "output_type": "execute_result"
    }
   ],
   "source": [
    "df_cleaned.shape"
   ]
  },
  {
   "cell_type": "code",
   "execution_count": 24,
   "id": "b4d5fe2f-a1dd-40bc-a2a6-555dd2189b7e",
   "metadata": {},
   "outputs": [
    {
     "data": {
      "text/plain": [
       "genres\n",
       "Drama, Mystery & Suspense                              1821\n",
       "Comedy                                                 1422\n",
       "Comedy, Drama                                          1401\n",
       "Drama                                                  1321\n",
       "Comedy, Romance                                         688\n",
       "                                                       ... \n",
       "Art House & International, Comedy, Drama, Romance         6\n",
       "Animation, Classics, Kids & Family, Television            5\n",
       "Animation, Kids & Family, Musical & Performing Arts       4\n",
       "Kids & Family, Science Fiction & Fantasy                  3\n",
       "Classics, Drama, Television                               3\n",
       "Name: count, Length: 198, dtype: int64"
      ]
     },
     "execution_count": 24,
     "metadata": {},
     "output_type": "execute_result"
    }
   ],
   "source": [
    "df_cleaned.genres.value_counts()"
   ]
  },
  {
   "cell_type": "code",
   "execution_count": 25,
   "id": "91540be4-0a9a-47e2-8178-862adc6f953d",
   "metadata": {},
   "outputs": [
    {
     "data": {
      "text/plain": [
       "198"
      ]
     },
     "execution_count": 25,
     "metadata": {},
     "output_type": "execute_result"
    }
   ],
   "source": [
    "df_cleaned.genres.nunique()"
   ]
  },
  {
   "cell_type": "markdown",
   "id": "82f71015-ec26-4404-b353-6ff3f7f1df76",
   "metadata": {},
   "source": [
    "We see that the genres are grouped together (e.g. \"Action & Adventure, Drama, Mystery & Suspense\") and we have 198 \"unique\" genre groups. However, we want to separate the genres into different columns and put 1 or 0 to signify the movie genre. Thus, a movie can have three genres and each column of the genre will have 1 on it."
   ]
  },
  {
   "cell_type": "code",
   "execution_count": 27,
   "id": "56a43b6b-6cd6-481c-bf61-e1e6b1ab7f69",
   "metadata": {},
   "outputs": [],
   "source": [
    "# put the genres into a list\n",
    "genre_list = list(df_cleaned.genres.unique())"
   ]
  },
  {
   "cell_type": "code",
   "execution_count": 28,
   "id": "07f997e8-d98b-45b6-83e7-166779c22dcb",
   "metadata": {},
   "outputs": [
    {
     "data": {
      "text/plain": [
       "['Action & Adventure, Comedy, Drama, Science Fiction & Fantasy',\n",
       " 'Comedy',\n",
       " 'Comedy, Romance',\n",
       " 'Classics, Drama',\n",
       " 'Action & Adventure, Drama, Kids & Family',\n",
       " 'Action & Adventure, Classics, Drama',\n",
       " 'Action & Adventure, Classics, Mystery & Suspense',\n",
       " 'Drama',\n",
       " 'Classics, Comedy, Romance',\n",
       " 'Art House & International, Drama, Faith & Spirituality',\n",
       " 'Drama, Mystery & Suspense',\n",
       " 'Documentary, Special Interest',\n",
       " 'Action & Adventure, Classics, Romance',\n",
       " 'Drama, Science Fiction & Fantasy, Romance',\n",
       " 'Action & Adventure, Drama, Mystery & Suspense',\n",
       " 'Action & Adventure, Drama, Horror, Science Fiction & Fantasy',\n",
       " 'Animation, Kids & Family, Science Fiction & Fantasy',\n",
       " 'Horror, Mystery & Suspense',\n",
       " 'Action & Adventure, Comedy, Drama, Mystery & Suspense',\n",
       " 'Art House & International, Drama',\n",
       " 'Comedy, Drama',\n",
       " 'Drama, Kids & Family',\n",
       " 'Action & Adventure, Classics, Drama, Western',\n",
       " 'Drama, Romance',\n",
       " 'Classics, Comedy, Drama, Romance',\n",
       " 'Action & Adventure, Horror, Science Fiction & Fantasy',\n",
       " 'Comedy, Science Fiction & Fantasy',\n",
       " 'Documentary, Sports & Fitness',\n",
       " 'Art House & International, Drama, Horror, Mystery & Suspense',\n",
       " 'Art House & International, Comedy, Drama, Science Fiction & Fantasy',\n",
       " 'Drama, Mystery & Suspense, Science Fiction & Fantasy',\n",
       " 'Documentary, Musical & Performing Arts',\n",
       " 'Animation, Drama, Kids & Family, Science Fiction & Fantasy',\n",
       " 'Drama, Horror, Mystery & Suspense',\n",
       " 'Documentary, Musical & Performing Arts, Special Interest',\n",
       " 'Documentary, Drama, Musical & Performing Arts, Special Interest',\n",
       " 'Art House & International, Drama, Musical & Performing Arts, Romance',\n",
       " 'Action & Adventure, Western',\n",
       " 'Comedy, Drama, Mystery & Suspense, Romance',\n",
       " 'Kids & Family, Romance',\n",
       " 'Action & Adventure, Comedy, Science Fiction & Fantasy',\n",
       " 'Art House & International, Horror, Special Interest',\n",
       " 'Horror, Mystery & Suspense, Science Fiction & Fantasy',\n",
       " 'Art House & International, Drama, Romance',\n",
       " 'Art House & International, Drama, Mystery & Suspense',\n",
       " 'Action & Adventure, Horror, Mystery & Suspense, Science Fiction & Fantasy, Western',\n",
       " 'Art House & International, Mystery & Suspense',\n",
       " 'Drama, Sports & Fitness',\n",
       " 'Action & Adventure, Comedy, Kids & Family, Science Fiction & Fantasy',\n",
       " 'Action & Adventure, Drama',\n",
       " 'Comedy, Drama, Kids & Family',\n",
       " 'Action & Adventure, Comedy, Mystery & Suspense, Science Fiction & Fantasy',\n",
       " 'Drama, Musical & Performing Arts',\n",
       " 'Comedy, Musical & Performing Arts',\n",
       " 'Animation, Comedy, Kids & Family',\n",
       " 'Art House & International, Comedy, Drama',\n",
       " 'Mystery & Suspense, Science Fiction & Fantasy',\n",
       " 'Action & Adventure, Art House & International',\n",
       " 'Comedy, Drama, Mystery & Suspense',\n",
       " 'Action & Adventure, Drama, Mystery & Suspense, Science Fiction & Fantasy',\n",
       " 'Mystery & Suspense',\n",
       " 'Drama, Horror',\n",
       " 'Action & Adventure, Drama, Romance',\n",
       " 'Drama, Musical & Performing Arts, Romance',\n",
       " 'Documentary',\n",
       " 'Art House & International, Drama, Horror',\n",
       " 'Action & Adventure, Art House & International, Horror, Science Fiction & Fantasy',\n",
       " 'Action & Adventure, Science Fiction & Fantasy',\n",
       " 'Kids & Family, Mystery & Suspense, Science Fiction & Fantasy',\n",
       " 'Action & Adventure, Comedy, Drama, Kids & Family',\n",
       " 'Drama, Kids & Family, Romance',\n",
       " 'Classics, Comedy',\n",
       " 'Classics, Comedy, Drama, Sports & Fitness',\n",
       " 'Classics, Drama, Mystery & Suspense',\n",
       " 'Classics, Horror, Mystery & Suspense',\n",
       " 'Action & Adventure, Kids & Family, Science Fiction & Fantasy',\n",
       " 'Action & Adventure, Drama, Horror, Mystery & Suspense',\n",
       " 'Art House & International, Classics, Drama, Musical & Performing Arts',\n",
       " 'Classics, Comedy, Drama',\n",
       " 'Classics, Drama, Television',\n",
       " 'Classics, Drama, Romance',\n",
       " 'Action & Adventure, Classics, Western',\n",
       " 'Classics, Comedy, Kids & Family, Musical & Performing Arts',\n",
       " 'Classics, Comedy, Horror, Mystery & Suspense',\n",
       " 'Horror',\n",
       " 'Action & Adventure, Classics, Comedy',\n",
       " 'Drama, Horror, Romance',\n",
       " 'Classics, Comedy, Drama, Mystery & Suspense',\n",
       " 'Animation, Kids & Family',\n",
       " 'Cult Movies, Horror, Mystery & Suspense',\n",
       " 'Classics, Drama, Western',\n",
       " 'Action & Adventure',\n",
       " 'Classics, Cult Movies, Horror, Science Fiction & Fantasy',\n",
       " 'Classics, Drama, Science Fiction & Fantasy',\n",
       " 'Classics, Drama, Television, Romance',\n",
       " 'Classics, Horror',\n",
       " 'Mystery & Suspense, Television',\n",
       " 'Classics, Science Fiction & Fantasy',\n",
       " 'Classics, Horror, Mystery & Suspense, Science Fiction & Fantasy',\n",
       " 'Drama, Horror, Science Fiction & Fantasy',\n",
       " 'Comedy, Kids & Family, Science Fiction & Fantasy',\n",
       " 'Drama, Horror, Mystery & Suspense, Science Fiction & Fantasy',\n",
       " 'Comedy, Drama, Romance',\n",
       " 'Comedy, Drama, Musical & Performing Arts',\n",
       " 'Comedy, Science Fiction & Fantasy, Romance, Sports & Fitness',\n",
       " 'Action & Adventure, Art House & International, Classics, Drama',\n",
       " 'Classics, Drama, Horror',\n",
       " 'Classics, Drama, Horror, Special Interest',\n",
       " 'Classics',\n",
       " 'Classics, Mystery & Suspense, Science Fiction & Fantasy',\n",
       " 'Classics, Comedy, Horror, Science Fiction & Fantasy',\n",
       " 'Action & Adventure, Horror, Mystery & Suspense, Science Fiction & Fantasy',\n",
       " 'Classics, Drama, Horror, Mystery & Suspense',\n",
       " 'Action & Adventure, Classics, Kids & Family, Science Fiction & Fantasy',\n",
       " 'Drama, Musical & Performing Arts, Faith & Spirituality',\n",
       " 'Action & Adventure, Classics, Horror',\n",
       " 'Classics, Drama, Faith & Spirituality',\n",
       " 'Classics, Mystery & Suspense',\n",
       " 'Art House & International, Classics, Comedy, Drama, Mystery & Suspense',\n",
       " 'Drama, Science Fiction & Fantasy',\n",
       " 'Comedy, Horror, Musical & Performing Arts, Science Fiction & Fantasy',\n",
       " 'Action & Adventure, Classics, Comedy, Drama',\n",
       " 'Art House & International, Comedy, Musical & Performing Arts, Science Fiction & Fantasy, Television, Romance',\n",
       " 'Action & Adventure, Mystery & Suspense',\n",
       " 'Comedy, Science Fiction & Fantasy, Romance',\n",
       " 'Action & Adventure, Art House & International, Classics, Drama, Science Fiction & Fantasy',\n",
       " 'Action & Adventure, Mystery & Suspense, Science Fiction & Fantasy',\n",
       " 'Classics, Horror, Romance',\n",
       " 'Horror, Mystery & Suspense, Western, Romance',\n",
       " 'Classics, Comedy, Musical & Performing Arts, Romance',\n",
       " 'Classics, Cult Movies, Horror',\n",
       " 'Animation, Kids & Family, Musical & Performing Arts, Science Fiction & Fantasy',\n",
       " 'Comedy, Mystery & Suspense, Romance',\n",
       " 'Comedy, Horror, Science Fiction & Fantasy',\n",
       " 'Cult Movies, Horror',\n",
       " 'Action & Adventure, Classics, Drama, Mystery & Suspense',\n",
       " 'Action & Adventure, Comedy, Kids & Family, Musical & Performing Arts',\n",
       " 'Classics, Drama, Musical & Performing Arts, Romance',\n",
       " 'Action & Adventure, Animation, Kids & Family, Musical & Performing Arts, Romance',\n",
       " 'Action & Adventure, Drama, Science Fiction & Fantasy',\n",
       " 'Animation, Classics, Kids & Family, Television',\n",
       " 'Action & Adventure, Comedy',\n",
       " 'Action & Adventure, Classics',\n",
       " 'Animation, Classics, Kids & Family, Science Fiction & Fantasy',\n",
       " 'Comedy, Mystery & Suspense',\n",
       " 'Classics, Drama, Musical & Performing Arts',\n",
       " 'Animation, Classics, Comedy, Kids & Family, Mystery & Suspense',\n",
       " 'Classics, Musical & Performing Arts, Romance',\n",
       " 'Classics, Horror, Science Fiction & Fantasy',\n",
       " 'Horror, Science Fiction & Fantasy',\n",
       " 'Comedy, Western',\n",
       " 'Action & Adventure, Classics, Science Fiction & Fantasy',\n",
       " 'Art House & International, Classics, Drama, Mystery & Suspense, Science Fiction & Fantasy',\n",
       " 'Action & Adventure, Classics, Drama, Science Fiction & Fantasy',\n",
       " 'Action & Adventure, Cult Movies, Drama',\n",
       " 'Classics, Kids & Family, Musical & Performing Arts, Special Interest',\n",
       " 'Drama, Mystery & Suspense, Romance',\n",
       " 'Animation, Classics, Comedy, Kids & Family, Science Fiction & Fantasy',\n",
       " 'Action & Adventure, Comedy, Drama',\n",
       " 'Comedy, Kids & Family',\n",
       " 'Comedy, Drama, Mystery & Suspense, Science Fiction & Fantasy, Romance',\n",
       " 'Action & Adventure, Classics, Comedy, Drama, Mystery & Suspense',\n",
       " 'Comedy, Kids & Family, Special Interest',\n",
       " 'Action & Adventure, Animation, Comedy, Science Fiction & Fantasy',\n",
       " 'Comedy, Drama, Horror, Kids & Family',\n",
       " 'Drama, Western',\n",
       " 'Action & Adventure, Art House & International, Drama, Mystery & Suspense, Science Fiction & Fantasy',\n",
       " 'Mystery & Suspense, Western',\n",
       " 'Action & Adventure, Comedy, Kids & Family, Romance',\n",
       " 'Action & Adventure, Drama, Western',\n",
       " 'Drama, Horror, Science Fiction & Fantasy, Romance',\n",
       " 'Action & Adventure, Cult Movies, Western',\n",
       " 'Action & Adventure, Animation, Drama',\n",
       " 'Action & Adventure, Drama, Kids & Family, Science Fiction & Fantasy',\n",
       " 'Action & Adventure, Comedy, Kids & Family, Science Fiction & Fantasy, Romance',\n",
       " 'Action & Adventure, Animation, Science Fiction & Fantasy',\n",
       " 'Art House & International, Comedy',\n",
       " 'Action & Adventure, Comedy, Kids & Family',\n",
       " 'Animation, Drama, Kids & Family',\n",
       " 'Drama, Mystery & Suspense, Western, Romance',\n",
       " 'Action & Adventure, Art House & International, Drama',\n",
       " 'Art House & International, Comedy, Drama, Romance',\n",
       " 'Action & Adventure, Animation, Drama, Kids & Family',\n",
       " 'Animation, Drama, Mystery & Suspense',\n",
       " 'Kids & Family, Science Fiction & Fantasy',\n",
       " 'Drama, Special Interest',\n",
       " 'Action & Adventure, Comedy, Drama, Mystery & Suspense, Romance',\n",
       " 'Art House & International, Drama, Musical & Performing Arts',\n",
       " 'Animation, Comedy, Documentary, Drama, Special Interest, Romance',\n",
       " 'Action & Adventure, Horror, Mystery & Suspense',\n",
       " 'Animation, Kids & Family, Musical & Performing Arts',\n",
       " 'Science Fiction & Fantasy',\n",
       " 'Comedy, Drama, Kids & Family, Science Fiction & Fantasy',\n",
       " 'Action & Adventure, Drama, Horror, Mystery & Suspense, Science Fiction & Fantasy',\n",
       " 'Comedy, Drama, Science Fiction & Fantasy',\n",
       " 'Drama, Mystery & Suspense, Sports & Fitness',\n",
       " 'Action & Adventure, Animation, Kids & Family',\n",
       " 'Action & Adventure, Art House & International, Drama, Mystery & Suspense']"
      ]
     },
     "execution_count": 28,
     "metadata": {},
     "output_type": "execute_result"
    }
   ],
   "source": [
    "genre_list"
   ]
  },
  {
   "cell_type": "code",
   "execution_count": 29,
   "id": "45eabcfa-7dae-47b0-b048-1842dfe25b62",
   "metadata": {},
   "outputs": [],
   "source": [
    "# we want to compile a list of individual genre\n",
    "all_genres = []\n",
    "\n",
    "for genre in genre_list:\n",
    "    genres = genre.split(',')\n",
    "    for g in genres:\n",
    "        item = g.strip()\n",
    "        if item not in all_genres:\n",
    "            all_genres.append(item)"
   ]
  },
  {
   "cell_type": "code",
   "execution_count": 30,
   "id": "61d85f2a-c816-46bd-b764-938b9664522f",
   "metadata": {},
   "outputs": [
    {
     "data": {
      "text/plain": [
       "['Action & Adventure',\n",
       " 'Comedy',\n",
       " 'Drama',\n",
       " 'Science Fiction & Fantasy',\n",
       " 'Romance',\n",
       " 'Classics',\n",
       " 'Kids & Family',\n",
       " 'Mystery & Suspense',\n",
       " 'Art House & International',\n",
       " 'Faith & Spirituality',\n",
       " 'Documentary',\n",
       " 'Special Interest',\n",
       " 'Horror',\n",
       " 'Animation',\n",
       " 'Western',\n",
       " 'Sports & Fitness',\n",
       " 'Musical & Performing Arts',\n",
       " 'Television',\n",
       " 'Cult Movies']"
      ]
     },
     "execution_count": 30,
     "metadata": {},
     "output_type": "execute_result"
    }
   ],
   "source": [
    "all_genres"
   ]
  },
  {
   "cell_type": "code",
   "execution_count": 31,
   "id": "2e8ec20f-3bbc-4ad4-b825-890d4abfed93",
   "metadata": {},
   "outputs": [
    {
     "data": {
      "text/plain": [
       "19"
      ]
     },
     "execution_count": 31,
     "metadata": {},
     "output_type": "execute_result"
    }
   ],
   "source": [
    "len(all_genres)"
   ]
  },
  {
   "cell_type": "markdown",
   "id": "8c88ab64-f698-4a6a-a84e-df2b4813352a",
   "metadata": {},
   "source": [
    "We have 19 genres now, instead of 198."
   ]
  },
  {
   "cell_type": "code",
   "execution_count": 33,
   "id": "19aa867e-6619-4bc9-ad64-180d8e8b2d6c",
   "metadata": {},
   "outputs": [],
   "source": [
    "# create new genre columns\n",
    "df_cleaned2 = df_cleaned.copy()\n",
    "for g in all_genres:\n",
    "    df_cleaned2.loc[:, g] = [0] * df_cleaned2.shape[0]"
   ]
  },
  {
   "cell_type": "code",
   "execution_count": 34,
   "id": "d6f4fd22-ed61-4a2d-9c4f-378e69e9e1db",
   "metadata": {},
   "outputs": [
    {
     "data": {
      "text/html": [
       "<div>\n",
       "<style scoped>\n",
       "    .dataframe tbody tr th:only-of-type {\n",
       "        vertical-align: middle;\n",
       "    }\n",
       "\n",
       "    .dataframe tbody tr th {\n",
       "        vertical-align: top;\n",
       "    }\n",
       "\n",
       "    .dataframe thead th {\n",
       "        text-align: right;\n",
       "    }\n",
       "</style>\n",
       "<table border=\"1\" class=\"dataframe\">\n",
       "  <thead>\n",
       "    <tr style=\"text-align: right;\">\n",
       "      <th></th>\n",
       "      <th>rotten_tomatoes_link</th>\n",
       "      <th>critic_name</th>\n",
       "      <th>top_critic</th>\n",
       "      <th>publisher_name</th>\n",
       "      <th>review_type</th>\n",
       "      <th>review_score</th>\n",
       "      <th>review_date</th>\n",
       "      <th>review_content</th>\n",
       "      <th>movie_title</th>\n",
       "      <th>movie_info</th>\n",
       "      <th>...</th>\n",
       "      <th>Faith &amp; Spirituality</th>\n",
       "      <th>Documentary</th>\n",
       "      <th>Special Interest</th>\n",
       "      <th>Horror</th>\n",
       "      <th>Animation</th>\n",
       "      <th>Western</th>\n",
       "      <th>Sports &amp; Fitness</th>\n",
       "      <th>Musical &amp; Performing Arts</th>\n",
       "      <th>Television</th>\n",
       "      <th>Cult Movies</th>\n",
       "    </tr>\n",
       "  </thead>\n",
       "  <tbody>\n",
       "    <tr>\n",
       "      <th>3</th>\n",
       "      <td>m/0814255</td>\n",
       "      <td>Ben McEachen</td>\n",
       "      <td>False</td>\n",
       "      <td>Sunday Mail (Australia)</td>\n",
       "      <td>Fresh</td>\n",
       "      <td>3.5/5</td>\n",
       "      <td>2010-02-09</td>\n",
       "      <td>Whether audiences will get behind The Lightnin...</td>\n",
       "      <td>Percy Jackson &amp; the Olympians: The Lightning T...</td>\n",
       "      <td>Always trouble-prone, the life of teenager Per...</td>\n",
       "      <td>...</td>\n",
       "      <td>0</td>\n",
       "      <td>0</td>\n",
       "      <td>0</td>\n",
       "      <td>0</td>\n",
       "      <td>0</td>\n",
       "      <td>0</td>\n",
       "      <td>0</td>\n",
       "      <td>0</td>\n",
       "      <td>0</td>\n",
       "      <td>0</td>\n",
       "    </tr>\n",
       "    <tr>\n",
       "      <th>6</th>\n",
       "      <td>m/0814255</td>\n",
       "      <td>Nick Schager</td>\n",
       "      <td>False</td>\n",
       "      <td>Slant Magazine</td>\n",
       "      <td>Rotten</td>\n",
       "      <td>1/4</td>\n",
       "      <td>2010-02-10</td>\n",
       "      <td>Harry Potter knockoffs don't come more transpa...</td>\n",
       "      <td>Percy Jackson &amp; the Olympians: The Lightning T...</td>\n",
       "      <td>Always trouble-prone, the life of teenager Per...</td>\n",
       "      <td>...</td>\n",
       "      <td>0</td>\n",
       "      <td>0</td>\n",
       "      <td>0</td>\n",
       "      <td>0</td>\n",
       "      <td>0</td>\n",
       "      <td>0</td>\n",
       "      <td>0</td>\n",
       "      <td>0</td>\n",
       "      <td>0</td>\n",
       "      <td>0</td>\n",
       "    </tr>\n",
       "    <tr>\n",
       "      <th>7</th>\n",
       "      <td>m/0814255</td>\n",
       "      <td>Bill Goodykoontz</td>\n",
       "      <td>True</td>\n",
       "      <td>Arizona Republic</td>\n",
       "      <td>Fresh</td>\n",
       "      <td>3.5/5</td>\n",
       "      <td>2010-02-10</td>\n",
       "      <td>Percy Jackson isn't a great movie, but it's a ...</td>\n",
       "      <td>Percy Jackson &amp; the Olympians: The Lightning T...</td>\n",
       "      <td>Always trouble-prone, the life of teenager Per...</td>\n",
       "      <td>...</td>\n",
       "      <td>0</td>\n",
       "      <td>0</td>\n",
       "      <td>0</td>\n",
       "      <td>0</td>\n",
       "      <td>0</td>\n",
       "      <td>0</td>\n",
       "      <td>0</td>\n",
       "      <td>0</td>\n",
       "      <td>0</td>\n",
       "      <td>0</td>\n",
       "    </tr>\n",
       "    <tr>\n",
       "      <th>8</th>\n",
       "      <td>m/0814255</td>\n",
       "      <td>Jordan Hoffman</td>\n",
       "      <td>False</td>\n",
       "      <td>UGO</td>\n",
       "      <td>Fresh</td>\n",
       "      <td>B</td>\n",
       "      <td>2010-02-10</td>\n",
       "      <td>Fun, brisk and imaginative</td>\n",
       "      <td>Percy Jackson &amp; the Olympians: The Lightning T...</td>\n",
       "      <td>Always trouble-prone, the life of teenager Per...</td>\n",
       "      <td>...</td>\n",
       "      <td>0</td>\n",
       "      <td>0</td>\n",
       "      <td>0</td>\n",
       "      <td>0</td>\n",
       "      <td>0</td>\n",
       "      <td>0</td>\n",
       "      <td>0</td>\n",
       "      <td>0</td>\n",
       "      <td>0</td>\n",
       "      <td>0</td>\n",
       "    </tr>\n",
       "    <tr>\n",
       "      <th>9</th>\n",
       "      <td>m/0814255</td>\n",
       "      <td>Jim Schembri</td>\n",
       "      <td>True</td>\n",
       "      <td>The Age (Australia)</td>\n",
       "      <td>Fresh</td>\n",
       "      <td>3/5</td>\n",
       "      <td>2010-02-10</td>\n",
       "      <td>Crammed with dragons, set-destroying fights an...</td>\n",
       "      <td>Percy Jackson &amp; the Olympians: The Lightning T...</td>\n",
       "      <td>Always trouble-prone, the life of teenager Per...</td>\n",
       "      <td>...</td>\n",
       "      <td>0</td>\n",
       "      <td>0</td>\n",
       "      <td>0</td>\n",
       "      <td>0</td>\n",
       "      <td>0</td>\n",
       "      <td>0</td>\n",
       "      <td>0</td>\n",
       "      <td>0</td>\n",
       "      <td>0</td>\n",
       "      <td>0</td>\n",
       "    </tr>\n",
       "  </tbody>\n",
       "</table>\n",
       "<p>5 rows × 48 columns</p>\n",
       "</div>"
      ],
      "text/plain": [
       "  rotten_tomatoes_link       critic_name  top_critic           publisher_name  \\\n",
       "3            m/0814255      Ben McEachen       False  Sunday Mail (Australia)   \n",
       "6            m/0814255      Nick Schager       False           Slant Magazine   \n",
       "7            m/0814255  Bill Goodykoontz        True         Arizona Republic   \n",
       "8            m/0814255    Jordan Hoffman       False                      UGO   \n",
       "9            m/0814255      Jim Schembri        True      The Age (Australia)   \n",
       "\n",
       "  review_type review_score review_date  \\\n",
       "3       Fresh        3.5/5  2010-02-09   \n",
       "6      Rotten          1/4  2010-02-10   \n",
       "7       Fresh        3.5/5  2010-02-10   \n",
       "8       Fresh            B  2010-02-10   \n",
       "9       Fresh          3/5  2010-02-10   \n",
       "\n",
       "                                      review_content  \\\n",
       "3  Whether audiences will get behind The Lightnin...   \n",
       "6  Harry Potter knockoffs don't come more transpa...   \n",
       "7  Percy Jackson isn't a great movie, but it's a ...   \n",
       "8                         Fun, brisk and imaginative   \n",
       "9  Crammed with dragons, set-destroying fights an...   \n",
       "\n",
       "                                         movie_title  \\\n",
       "3  Percy Jackson & the Olympians: The Lightning T...   \n",
       "6  Percy Jackson & the Olympians: The Lightning T...   \n",
       "7  Percy Jackson & the Olympians: The Lightning T...   \n",
       "8  Percy Jackson & the Olympians: The Lightning T...   \n",
       "9  Percy Jackson & the Olympians: The Lightning T...   \n",
       "\n",
       "                                          movie_info  ...  \\\n",
       "3  Always trouble-prone, the life of teenager Per...  ...   \n",
       "6  Always trouble-prone, the life of teenager Per...  ...   \n",
       "7  Always trouble-prone, the life of teenager Per...  ...   \n",
       "8  Always trouble-prone, the life of teenager Per...  ...   \n",
       "9  Always trouble-prone, the life of teenager Per...  ...   \n",
       "\n",
       "  Faith & Spirituality Documentary Special Interest Horror Animation Western  \\\n",
       "3                    0           0                0      0         0       0   \n",
       "6                    0           0                0      0         0       0   \n",
       "7                    0           0                0      0         0       0   \n",
       "8                    0           0                0      0         0       0   \n",
       "9                    0           0                0      0         0       0   \n",
       "\n",
       "  Sports & Fitness Musical & Performing Arts  Television Cult Movies  \n",
       "3                0                         0           0           0  \n",
       "6                0                         0           0           0  \n",
       "7                0                         0           0           0  \n",
       "8                0                         0           0           0  \n",
       "9                0                         0           0           0  \n",
       "\n",
       "[5 rows x 48 columns]"
      ]
     },
     "execution_count": 34,
     "metadata": {},
     "output_type": "execute_result"
    }
   ],
   "source": [
    "df_cleaned2.head(5)"
   ]
  },
  {
   "cell_type": "markdown",
   "id": "54e5e230-203c-41b0-9789-7d5bf763f31d",
   "metadata": {},
   "source": [
    "We want to check the genres in each movie. If we see a genre, we add 1 to the column with the genre name."
   ]
  },
  {
   "cell_type": "code",
   "execution_count": 36,
   "id": "3536705e-6590-48ca-9cf7-7ee89b7e3232",
   "metadata": {},
   "outputs": [],
   "source": [
    "def contains_column_name(row, col_name):\n",
    "    # Check if the column name is part of the genres listed\n",
    "    genre_list = []\n",
    "    genres = row.split(',')\n",
    "    for g in genres:\n",
    "        item = g.strip()\n",
    "        genre_list.append(item)\n",
    "    return 1 if col_name in genre_list else 0"
   ]
  },
  {
   "cell_type": "code",
   "execution_count": 37,
   "id": "b7ecfeb9-c04a-48ed-9649-cf7c45318f5c",
   "metadata": {},
   "outputs": [],
   "source": [
    "for col in all_genres:\n",
    "    df_cleaned2.loc[:, col] = df_cleaned2[\"genres\"].apply(lambda row: contains_column_name(row, col))"
   ]
  },
  {
   "cell_type": "code",
   "execution_count": 38,
   "id": "c3f439a0-98cc-448e-bb9b-6efbaa46ddec",
   "metadata": {},
   "outputs": [
    {
     "data": {
      "text/html": [
       "<div>\n",
       "<style scoped>\n",
       "    .dataframe tbody tr th:only-of-type {\n",
       "        vertical-align: middle;\n",
       "    }\n",
       "\n",
       "    .dataframe tbody tr th {\n",
       "        vertical-align: top;\n",
       "    }\n",
       "\n",
       "    .dataframe thead th {\n",
       "        text-align: right;\n",
       "    }\n",
       "</style>\n",
       "<table border=\"1\" class=\"dataframe\">\n",
       "  <thead>\n",
       "    <tr style=\"text-align: right;\">\n",
       "      <th></th>\n",
       "      <th>Action &amp; Adventure</th>\n",
       "      <th>Comedy</th>\n",
       "      <th>Drama</th>\n",
       "      <th>Science Fiction &amp; Fantasy</th>\n",
       "      <th>Romance</th>\n",
       "      <th>Classics</th>\n",
       "      <th>Kids &amp; Family</th>\n",
       "      <th>Mystery &amp; Suspense</th>\n",
       "      <th>Art House &amp; International</th>\n",
       "      <th>Faith &amp; Spirituality</th>\n",
       "      <th>Documentary</th>\n",
       "      <th>Special Interest</th>\n",
       "      <th>Horror</th>\n",
       "      <th>Animation</th>\n",
       "      <th>Western</th>\n",
       "      <th>Sports &amp; Fitness</th>\n",
       "      <th>Musical &amp; Performing Arts</th>\n",
       "      <th>Television</th>\n",
       "      <th>Cult Movies</th>\n",
       "    </tr>\n",
       "  </thead>\n",
       "  <tbody>\n",
       "    <tr>\n",
       "      <th>3</th>\n",
       "      <td>1</td>\n",
       "      <td>1</td>\n",
       "      <td>1</td>\n",
       "      <td>1</td>\n",
       "      <td>0</td>\n",
       "      <td>0</td>\n",
       "      <td>0</td>\n",
       "      <td>0</td>\n",
       "      <td>0</td>\n",
       "      <td>0</td>\n",
       "      <td>0</td>\n",
       "      <td>0</td>\n",
       "      <td>0</td>\n",
       "      <td>0</td>\n",
       "      <td>0</td>\n",
       "      <td>0</td>\n",
       "      <td>0</td>\n",
       "      <td>0</td>\n",
       "      <td>0</td>\n",
       "    </tr>\n",
       "    <tr>\n",
       "      <th>6</th>\n",
       "      <td>1</td>\n",
       "      <td>1</td>\n",
       "      <td>1</td>\n",
       "      <td>1</td>\n",
       "      <td>0</td>\n",
       "      <td>0</td>\n",
       "      <td>0</td>\n",
       "      <td>0</td>\n",
       "      <td>0</td>\n",
       "      <td>0</td>\n",
       "      <td>0</td>\n",
       "      <td>0</td>\n",
       "      <td>0</td>\n",
       "      <td>0</td>\n",
       "      <td>0</td>\n",
       "      <td>0</td>\n",
       "      <td>0</td>\n",
       "      <td>0</td>\n",
       "      <td>0</td>\n",
       "    </tr>\n",
       "    <tr>\n",
       "      <th>7</th>\n",
       "      <td>1</td>\n",
       "      <td>1</td>\n",
       "      <td>1</td>\n",
       "      <td>1</td>\n",
       "      <td>0</td>\n",
       "      <td>0</td>\n",
       "      <td>0</td>\n",
       "      <td>0</td>\n",
       "      <td>0</td>\n",
       "      <td>0</td>\n",
       "      <td>0</td>\n",
       "      <td>0</td>\n",
       "      <td>0</td>\n",
       "      <td>0</td>\n",
       "      <td>0</td>\n",
       "      <td>0</td>\n",
       "      <td>0</td>\n",
       "      <td>0</td>\n",
       "      <td>0</td>\n",
       "    </tr>\n",
       "    <tr>\n",
       "      <th>8</th>\n",
       "      <td>1</td>\n",
       "      <td>1</td>\n",
       "      <td>1</td>\n",
       "      <td>1</td>\n",
       "      <td>0</td>\n",
       "      <td>0</td>\n",
       "      <td>0</td>\n",
       "      <td>0</td>\n",
       "      <td>0</td>\n",
       "      <td>0</td>\n",
       "      <td>0</td>\n",
       "      <td>0</td>\n",
       "      <td>0</td>\n",
       "      <td>0</td>\n",
       "      <td>0</td>\n",
       "      <td>0</td>\n",
       "      <td>0</td>\n",
       "      <td>0</td>\n",
       "      <td>0</td>\n",
       "    </tr>\n",
       "    <tr>\n",
       "      <th>9</th>\n",
       "      <td>1</td>\n",
       "      <td>1</td>\n",
       "      <td>1</td>\n",
       "      <td>1</td>\n",
       "      <td>0</td>\n",
       "      <td>0</td>\n",
       "      <td>0</td>\n",
       "      <td>0</td>\n",
       "      <td>0</td>\n",
       "      <td>0</td>\n",
       "      <td>0</td>\n",
       "      <td>0</td>\n",
       "      <td>0</td>\n",
       "      <td>0</td>\n",
       "      <td>0</td>\n",
       "      <td>0</td>\n",
       "      <td>0</td>\n",
       "      <td>0</td>\n",
       "      <td>0</td>\n",
       "    </tr>\n",
       "    <tr>\n",
       "      <th>...</th>\n",
       "      <td>...</td>\n",
       "      <td>...</td>\n",
       "      <td>...</td>\n",
       "      <td>...</td>\n",
       "      <td>...</td>\n",
       "      <td>...</td>\n",
       "      <td>...</td>\n",
       "      <td>...</td>\n",
       "      <td>...</td>\n",
       "      <td>...</td>\n",
       "      <td>...</td>\n",
       "      <td>...</td>\n",
       "      <td>...</td>\n",
       "      <td>...</td>\n",
       "      <td>...</td>\n",
       "      <td>...</td>\n",
       "      <td>...</td>\n",
       "      <td>...</td>\n",
       "      <td>...</td>\n",
       "    </tr>\n",
       "    <tr>\n",
       "      <th>49988</th>\n",
       "      <td>1</td>\n",
       "      <td>0</td>\n",
       "      <td>0</td>\n",
       "      <td>0</td>\n",
       "      <td>0</td>\n",
       "      <td>0</td>\n",
       "      <td>0</td>\n",
       "      <td>1</td>\n",
       "      <td>0</td>\n",
       "      <td>0</td>\n",
       "      <td>0</td>\n",
       "      <td>0</td>\n",
       "      <td>0</td>\n",
       "      <td>0</td>\n",
       "      <td>0</td>\n",
       "      <td>0</td>\n",
       "      <td>0</td>\n",
       "      <td>0</td>\n",
       "      <td>0</td>\n",
       "    </tr>\n",
       "    <tr>\n",
       "      <th>49992</th>\n",
       "      <td>1</td>\n",
       "      <td>0</td>\n",
       "      <td>0</td>\n",
       "      <td>0</td>\n",
       "      <td>0</td>\n",
       "      <td>0</td>\n",
       "      <td>0</td>\n",
       "      <td>1</td>\n",
       "      <td>0</td>\n",
       "      <td>0</td>\n",
       "      <td>0</td>\n",
       "      <td>0</td>\n",
       "      <td>0</td>\n",
       "      <td>0</td>\n",
       "      <td>0</td>\n",
       "      <td>0</td>\n",
       "      <td>0</td>\n",
       "      <td>0</td>\n",
       "      <td>0</td>\n",
       "    </tr>\n",
       "    <tr>\n",
       "      <th>49993</th>\n",
       "      <td>1</td>\n",
       "      <td>0</td>\n",
       "      <td>0</td>\n",
       "      <td>0</td>\n",
       "      <td>0</td>\n",
       "      <td>0</td>\n",
       "      <td>0</td>\n",
       "      <td>1</td>\n",
       "      <td>0</td>\n",
       "      <td>0</td>\n",
       "      <td>0</td>\n",
       "      <td>0</td>\n",
       "      <td>0</td>\n",
       "      <td>0</td>\n",
       "      <td>0</td>\n",
       "      <td>0</td>\n",
       "      <td>0</td>\n",
       "      <td>0</td>\n",
       "      <td>0</td>\n",
       "    </tr>\n",
       "    <tr>\n",
       "      <th>49994</th>\n",
       "      <td>1</td>\n",
       "      <td>0</td>\n",
       "      <td>0</td>\n",
       "      <td>0</td>\n",
       "      <td>0</td>\n",
       "      <td>0</td>\n",
       "      <td>0</td>\n",
       "      <td>1</td>\n",
       "      <td>0</td>\n",
       "      <td>0</td>\n",
       "      <td>0</td>\n",
       "      <td>0</td>\n",
       "      <td>0</td>\n",
       "      <td>0</td>\n",
       "      <td>0</td>\n",
       "      <td>0</td>\n",
       "      <td>0</td>\n",
       "      <td>0</td>\n",
       "      <td>0</td>\n",
       "    </tr>\n",
       "    <tr>\n",
       "      <th>49998</th>\n",
       "      <td>1</td>\n",
       "      <td>0</td>\n",
       "      <td>0</td>\n",
       "      <td>0</td>\n",
       "      <td>0</td>\n",
       "      <td>0</td>\n",
       "      <td>0</td>\n",
       "      <td>1</td>\n",
       "      <td>0</td>\n",
       "      <td>0</td>\n",
       "      <td>0</td>\n",
       "      <td>0</td>\n",
       "      <td>0</td>\n",
       "      <td>0</td>\n",
       "      <td>0</td>\n",
       "      <td>0</td>\n",
       "      <td>0</td>\n",
       "      <td>0</td>\n",
       "      <td>0</td>\n",
       "    </tr>\n",
       "  </tbody>\n",
       "</table>\n",
       "<p>21855 rows × 19 columns</p>\n",
       "</div>"
      ],
      "text/plain": [
       "       Action & Adventure  Comedy  Drama  Science Fiction & Fantasy  Romance  \\\n",
       "3                       1       1      1                          1        0   \n",
       "6                       1       1      1                          1        0   \n",
       "7                       1       1      1                          1        0   \n",
       "8                       1       1      1                          1        0   \n",
       "9                       1       1      1                          1        0   \n",
       "...                   ...     ...    ...                        ...      ...   \n",
       "49988                   1       0      0                          0        0   \n",
       "49992                   1       0      0                          0        0   \n",
       "49993                   1       0      0                          0        0   \n",
       "49994                   1       0      0                          0        0   \n",
       "49998                   1       0      0                          0        0   \n",
       "\n",
       "       Classics  Kids & Family  Mystery & Suspense  Art House & International  \\\n",
       "3             0              0                   0                          0   \n",
       "6             0              0                   0                          0   \n",
       "7             0              0                   0                          0   \n",
       "8             0              0                   0                          0   \n",
       "9             0              0                   0                          0   \n",
       "...         ...            ...                 ...                        ...   \n",
       "49988         0              0                   1                          0   \n",
       "49992         0              0                   1                          0   \n",
       "49993         0              0                   1                          0   \n",
       "49994         0              0                   1                          0   \n",
       "49998         0              0                   1                          0   \n",
       "\n",
       "       Faith & Spirituality  Documentary  Special Interest  Horror  Animation  \\\n",
       "3                         0            0                 0       0          0   \n",
       "6                         0            0                 0       0          0   \n",
       "7                         0            0                 0       0          0   \n",
       "8                         0            0                 0       0          0   \n",
       "9                         0            0                 0       0          0   \n",
       "...                     ...          ...               ...     ...        ...   \n",
       "49988                     0            0                 0       0          0   \n",
       "49992                     0            0                 0       0          0   \n",
       "49993                     0            0                 0       0          0   \n",
       "49994                     0            0                 0       0          0   \n",
       "49998                     0            0                 0       0          0   \n",
       "\n",
       "       Western  Sports & Fitness  Musical & Performing Arts  Television  \\\n",
       "3            0                 0                          0           0   \n",
       "6            0                 0                          0           0   \n",
       "7            0                 0                          0           0   \n",
       "8            0                 0                          0           0   \n",
       "9            0                 0                          0           0   \n",
       "...        ...               ...                        ...         ...   \n",
       "49988        0                 0                          0           0   \n",
       "49992        0                 0                          0           0   \n",
       "49993        0                 0                          0           0   \n",
       "49994        0                 0                          0           0   \n",
       "49998        0                 0                          0           0   \n",
       "\n",
       "       Cult Movies  \n",
       "3                0  \n",
       "6                0  \n",
       "7                0  \n",
       "8                0  \n",
       "9                0  \n",
       "...            ...  \n",
       "49988            0  \n",
       "49992            0  \n",
       "49993            0  \n",
       "49994            0  \n",
       "49998            0  \n",
       "\n",
       "[21855 rows x 19 columns]"
      ]
     },
     "execution_count": 38,
     "metadata": {},
     "output_type": "execute_result"
    }
   ],
   "source": [
    "df_cleaned2.iloc[:, -19:]"
   ]
  },
  {
   "cell_type": "markdown",
   "id": "6e9719bf-aa6b-4115-b18f-58aa6cf2929b",
   "metadata": {},
   "source": [
    "Now we have separate genre as columns and 1 or 0 to indicate that the movie is in those genres."
   ]
  },
  {
   "cell_type": "code",
   "execution_count": 40,
   "id": "f2f3f612-0241-4973-b4cb-a2767b466840",
   "metadata": {},
   "outputs": [
    {
     "data": {
      "text/plain": [
       "rotten_tomatoes_link                  639\n",
       "critic_name                          1715\n",
       "top_critic                              2\n",
       "publisher_name                        787\n",
       "review_type                             2\n",
       "review_score                          176\n",
       "review_date                          4285\n",
       "review_content                      21834\n",
       "movie_title                           618\n",
       "movie_info                            639\n",
       "critics_consensus                     639\n",
       "content_rating                          6\n",
       "genres                                198\n",
       "directors                             517\n",
       "authors                               621\n",
       "actors                                639\n",
       "original_release_date                 568\n",
       "streaming_release_date                291\n",
       "runtime                               103\n",
       "production_company                    203\n",
       "tomatometer_status                      3\n",
       "tomatometer_rating                    100\n",
       "tomatometer_count                     150\n",
       "audience_status                         2\n",
       "audience_rating                        83\n",
       "audience_count                        633\n",
       "tomatometer_top_critics_count          56\n",
       "tomatometer_fresh_critics_count       114\n",
       "tomatometer_rotten_critics_count      103\n",
       "Action & Adventure                      2\n",
       "Comedy                                  2\n",
       "Drama                                   2\n",
       "Science Fiction & Fantasy               2\n",
       "Romance                                 2\n",
       "Classics                                2\n",
       "Kids & Family                           2\n",
       "Mystery & Suspense                      2\n",
       "Art House & International               2\n",
       "Faith & Spirituality                    2\n",
       "Documentary                             2\n",
       "Special Interest                        2\n",
       "Horror                                  2\n",
       "Animation                               2\n",
       "Western                                 2\n",
       "Sports & Fitness                        2\n",
       "Musical & Performing Arts               2\n",
       "Television                              2\n",
       "Cult Movies                             2\n",
       "dtype: int64"
      ]
     },
     "execution_count": 40,
     "metadata": {},
     "output_type": "execute_result"
    }
   ],
   "source": [
    "df_cleaned2.nunique()"
   ]
  },
  {
   "cell_type": "code",
   "execution_count": 41,
   "id": "23a29c16-678f-465a-8488-52eba96979cb",
   "metadata": {},
   "outputs": [
    {
     "data": {
      "text/plain": [
       "Text(0.5, 1.0, 'Rotten-Fresh-Certified-Fresh Distribution')"
      ]
     },
     "execution_count": 41,
     "metadata": {},
     "output_type": "execute_result"
    },
    {
     "data": {
      "image/png": "[encoded data removed]",
      "text/plain": [
       "<Figure size 640x480 with 1 Axes>"
      ]
     },
     "metadata": {},
     "output_type": "display_data"
    }
   ],
   "source": [
    "sns.histplot(data=df_cleaned2, x=\"tomatometer_status\")\n",
    "plt.title(\"Rotten-Fresh-Certified-Fresh Distribution\")"
   ]
  },
  {
   "cell_type": "code",
   "execution_count": 42,
   "id": "29189b91-9c02-4d0a-b7b4-37abb6189e05",
   "metadata": {},
   "outputs": [
    {
     "data": {
      "text/plain": [
       "tomatometer_status\n",
       "Rotten             9904\n",
       "Certified-Fresh    7345\n",
       "Fresh              4606\n",
       "Name: count, dtype: int64"
      ]
     },
     "execution_count": 42,
     "metadata": {},
     "output_type": "execute_result"
    }
   ],
   "source": [
    "df_cleaned2.tomatometer_status.value_counts()"
   ]
  },
  {
   "cell_type": "code",
   "execution_count": 43,
   "id": "edd8a322-91f0-4b49-9d04-965776276c1f",
   "metadata": {},
   "outputs": [
    {
     "name": "stdout",
     "output_type": "stream",
     "text": [
      "The movies in the dataset are 45.32 percent Rotten, 21.08 percent Fresh, and 33.61 percent Certified-Fresh.\n"
     ]
    }
   ],
   "source": [
    "print(f\"The movies in the dataset are {9904/df_cleaned2.shape[0] * 100:.2f} percent Rotten, {4606/df_cleaned2.shape[0] * 100:.2f} percent Fresh, and {7345/df_cleaned2.shape[0] * 100:.2f} percent Certified-Fresh.\")  "
   ]
  },
  {
   "cell_type": "code",
   "execution_count": 44,
   "id": "4cd781b4-e00b-4bee-8241-0c60a2dfec8d",
   "metadata": {},
   "outputs": [
    {
     "data": {
      "text/plain": [
       "Text(0.5, 1.0, 'How Fresh is Each Movie Rating?')"
      ]
     },
     "execution_count": 44,
     "metadata": {},
     "output_type": "execute_result"
    },
    {
     "data": {
      "image/png": "[encoded data removed]",
      "text/plain": [
       "<Figure size 640x480 with 1 Axes>"
      ]
     },
     "metadata": {},
     "output_type": "display_data"
    }
   ],
   "source": [
    "# How does each movie rating fare?\n",
    "rt = pd.crosstab(df_cleaned2[\"content_rating\"], df_cleaned2[\"tomatometer_status\"])\n",
    "\n",
    "rt.plot(kind=\"bar\", stacked=True)\n",
    "plt.title(\"How Fresh is Each Movie Rating?\")"
   ]
  },
  {
   "cell_type": "code",
   "execution_count": 45,
   "id": "5a20485a-bc01-4fc7-89be-75cad3b8541e",
   "metadata": {},
   "outputs": [
    {
     "data": {
      "text/plain": [
       "Text(0.5, 1.0, 'Movie Rating Distribution')"
      ]
     },
     "execution_count": 45,
     "metadata": {},
     "output_type": "execute_result"
    },
    {
     "data": {
      "image/png": "[encoded data removed]",
      "text/plain": [
       "<Figure size 640x480 with 1 Axes>"
      ]
     },
     "metadata": {},
     "output_type": "display_data"
    }
   ],
   "source": [
    "sns.histplot(data=df_cleaned2, x=\"content_rating\")\n",
    "plt.title(\"Movie Rating Distribution\")"
   ]
  },
  {
   "cell_type": "code",
   "execution_count": 46,
   "id": "b2b3bbcc-cbb9-4617-a94d-3c6b6ed8d7fa",
   "metadata": {},
   "outputs": [
    {
     "data": {
      "text/plain": [
       "content_rating\n",
       "R        9663\n",
       "PG-13    6212\n",
       "PG       3512\n",
       "NR       1475\n",
       "G         944\n",
       "NC17       49\n",
       "Name: count, dtype: int64"
      ]
     },
     "execution_count": 46,
     "metadata": {},
     "output_type": "execute_result"
    }
   ],
   "source": [
    "df_cleaned2[\"content_rating\"].value_counts()"
   ]
  },
  {
   "cell_type": "markdown",
   "id": "c639e7ce-4198-4b4c-8aae-b4b0e0315241",
   "metadata": {},
   "source": [
    "It looks like R-rated movies have the most \"Rotten\" score, followed by PG-13. However, since the R-rated and PG-13-rated movies make up more than half of the movies in this dataset, the \"Rotten\" score is unsurprising. What is interesting is that NR, despite only a fraction of R and PG-13, receives many \"Fresh\" and \"Certified-Fresh\" scores relative to the total number of movies with this rating. Also, we see that there is only a thin blue strip for NC17, which indicates that the existing NC17-rated movies also receives \"Certified Fresh.\""
   ]
  },
  {
   "cell_type": "code",
   "execution_count": 48,
   "id": "0cd99dfb-8833-47ab-83e6-9495098d148f",
   "metadata": {},
   "outputs": [
    {
     "data": {
      "text/plain": [
       "['Action & Adventure',\n",
       " 'Comedy',\n",
       " 'Drama',\n",
       " 'Science Fiction & Fantasy',\n",
       " 'Romance',\n",
       " 'Classics',\n",
       " 'Kids & Family',\n",
       " 'Mystery & Suspense',\n",
       " 'Art House & International',\n",
       " 'Faith & Spirituality',\n",
       " 'Documentary',\n",
       " 'Special Interest',\n",
       " 'Horror',\n",
       " 'Animation',\n",
       " 'Western',\n",
       " 'Sports & Fitness',\n",
       " 'Musical & Performing Arts',\n",
       " 'Television',\n",
       " 'Cult Movies']"
      ]
     },
     "execution_count": 48,
     "metadata": {},
     "output_type": "execute_result"
    }
   ],
   "source": [
    "all_genres"
   ]
  },
  {
   "cell_type": "code",
   "execution_count": 49,
   "id": "796e5d6e-b109-4052-9a0e-8a8b570cd163",
   "metadata": {},
   "outputs": [],
   "source": [
    "df_genres = df_cleaned2.iloc[:, -19:]"
   ]
  },
  {
   "cell_type": "code",
   "execution_count": 50,
   "id": "d8c093fd-9966-4dcb-8575-3d289952d8e2",
   "metadata": {},
   "outputs": [
    {
     "data": {
      "text/html": [
       "<div>\n",
       "<style scoped>\n",
       "    .dataframe tbody tr th:only-of-type {\n",
       "        vertical-align: middle;\n",
       "    }\n",
       "\n",
       "    .dataframe tbody tr th {\n",
       "        vertical-align: top;\n",
       "    }\n",
       "\n",
       "    .dataframe thead th {\n",
       "        text-align: right;\n",
       "    }\n",
       "</style>\n",
       "<table border=\"1\" class=\"dataframe\">\n",
       "  <thead>\n",
       "    <tr style=\"text-align: right;\">\n",
       "      <th></th>\n",
       "      <th>Action &amp; Adventure</th>\n",
       "      <th>Comedy</th>\n",
       "      <th>Drama</th>\n",
       "      <th>Science Fiction &amp; Fantasy</th>\n",
       "      <th>Romance</th>\n",
       "      <th>Classics</th>\n",
       "      <th>Kids &amp; Family</th>\n",
       "      <th>Mystery &amp; Suspense</th>\n",
       "      <th>Art House &amp; International</th>\n",
       "      <th>Faith &amp; Spirituality</th>\n",
       "      <th>Documentary</th>\n",
       "      <th>Special Interest</th>\n",
       "      <th>Horror</th>\n",
       "      <th>Animation</th>\n",
       "      <th>Western</th>\n",
       "      <th>Sports &amp; Fitness</th>\n",
       "      <th>Musical &amp; Performing Arts</th>\n",
       "      <th>Television</th>\n",
       "      <th>Cult Movies</th>\n",
       "    </tr>\n",
       "  </thead>\n",
       "  <tbody>\n",
       "    <tr>\n",
       "      <th>3</th>\n",
       "      <td>1</td>\n",
       "      <td>1</td>\n",
       "      <td>1</td>\n",
       "      <td>1</td>\n",
       "      <td>0</td>\n",
       "      <td>0</td>\n",
       "      <td>0</td>\n",
       "      <td>0</td>\n",
       "      <td>0</td>\n",
       "      <td>0</td>\n",
       "      <td>0</td>\n",
       "      <td>0</td>\n",
       "      <td>0</td>\n",
       "      <td>0</td>\n",
       "      <td>0</td>\n",
       "      <td>0</td>\n",
       "      <td>0</td>\n",
       "      <td>0</td>\n",
       "      <td>0</td>\n",
       "    </tr>\n",
       "    <tr>\n",
       "      <th>6</th>\n",
       "      <td>1</td>\n",
       "      <td>1</td>\n",
       "      <td>1</td>\n",
       "      <td>1</td>\n",
       "      <td>0</td>\n",
       "      <td>0</td>\n",
       "      <td>0</td>\n",
       "      <td>0</td>\n",
       "      <td>0</td>\n",
       "      <td>0</td>\n",
       "      <td>0</td>\n",
       "      <td>0</td>\n",
       "      <td>0</td>\n",
       "      <td>0</td>\n",
       "      <td>0</td>\n",
       "      <td>0</td>\n",
       "      <td>0</td>\n",
       "      <td>0</td>\n",
       "      <td>0</td>\n",
       "    </tr>\n",
       "    <tr>\n",
       "      <th>7</th>\n",
       "      <td>1</td>\n",
       "      <td>1</td>\n",
       "      <td>1</td>\n",
       "      <td>1</td>\n",
       "      <td>0</td>\n",
       "      <td>0</td>\n",
       "      <td>0</td>\n",
       "      <td>0</td>\n",
       "      <td>0</td>\n",
       "      <td>0</td>\n",
       "      <td>0</td>\n",
       "      <td>0</td>\n",
       "      <td>0</td>\n",
       "      <td>0</td>\n",
       "      <td>0</td>\n",
       "      <td>0</td>\n",
       "      <td>0</td>\n",
       "      <td>0</td>\n",
       "      <td>0</td>\n",
       "    </tr>\n",
       "    <tr>\n",
       "      <th>8</th>\n",
       "      <td>1</td>\n",
       "      <td>1</td>\n",
       "      <td>1</td>\n",
       "      <td>1</td>\n",
       "      <td>0</td>\n",
       "      <td>0</td>\n",
       "      <td>0</td>\n",
       "      <td>0</td>\n",
       "      <td>0</td>\n",
       "      <td>0</td>\n",
       "      <td>0</td>\n",
       "      <td>0</td>\n",
       "      <td>0</td>\n",
       "      <td>0</td>\n",
       "      <td>0</td>\n",
       "      <td>0</td>\n",
       "      <td>0</td>\n",
       "      <td>0</td>\n",
       "      <td>0</td>\n",
       "    </tr>\n",
       "    <tr>\n",
       "      <th>9</th>\n",
       "      <td>1</td>\n",
       "      <td>1</td>\n",
       "      <td>1</td>\n",
       "      <td>1</td>\n",
       "      <td>0</td>\n",
       "      <td>0</td>\n",
       "      <td>0</td>\n",
       "      <td>0</td>\n",
       "      <td>0</td>\n",
       "      <td>0</td>\n",
       "      <td>0</td>\n",
       "      <td>0</td>\n",
       "      <td>0</td>\n",
       "      <td>0</td>\n",
       "      <td>0</td>\n",
       "      <td>0</td>\n",
       "      <td>0</td>\n",
       "      <td>0</td>\n",
       "      <td>0</td>\n",
       "    </tr>\n",
       "  </tbody>\n",
       "</table>\n",
       "</div>"
      ],
      "text/plain": [
       "   Action & Adventure  Comedy  Drama  Science Fiction & Fantasy  Romance  \\\n",
       "3                   1       1      1                          1        0   \n",
       "6                   1       1      1                          1        0   \n",
       "7                   1       1      1                          1        0   \n",
       "8                   1       1      1                          1        0   \n",
       "9                   1       1      1                          1        0   \n",
       "\n",
       "   Classics  Kids & Family  Mystery & Suspense  Art House & International  \\\n",
       "3         0              0                   0                          0   \n",
       "6         0              0                   0                          0   \n",
       "7         0              0                   0                          0   \n",
       "8         0              0                   0                          0   \n",
       "9         0              0                   0                          0   \n",
       "\n",
       "   Faith & Spirituality  Documentary  Special Interest  Horror  Animation  \\\n",
       "3                     0            0                 0       0          0   \n",
       "6                     0            0                 0       0          0   \n",
       "7                     0            0                 0       0          0   \n",
       "8                     0            0                 0       0          0   \n",
       "9                     0            0                 0       0          0   \n",
       "\n",
       "   Western  Sports & Fitness  Musical & Performing Arts  Television  \\\n",
       "3        0                 0                          0           0   \n",
       "6        0                 0                          0           0   \n",
       "7        0                 0                          0           0   \n",
       "8        0                 0                          0           0   \n",
       "9        0                 0                          0           0   \n",
       "\n",
       "   Cult Movies  \n",
       "3            0  \n",
       "6            0  \n",
       "7            0  \n",
       "8            0  \n",
       "9            0  "
      ]
     },
     "execution_count": 50,
     "metadata": {},
     "output_type": "execute_result"
    }
   ],
   "source": [
    "df_genres.head(5)"
   ]
  },
  {
   "cell_type": "code",
   "execution_count": 51,
   "id": "362308bf-c2ba-4672-a9df-6a2a98d6e14a",
   "metadata": {},
   "outputs": [],
   "source": [
    "genre_freq = df_genres.sum()"
   ]
  },
  {
   "cell_type": "code",
   "execution_count": 52,
   "id": "4d8ee499-eb0c-4fb1-a508-f358c5e4d3b7",
   "metadata": {},
   "outputs": [
    {
     "data": {
      "text/plain": [
       "Action & Adventure            5668\n",
       "Comedy                        6916\n",
       "Drama                        13675\n",
       "Science Fiction & Fantasy     4205\n",
       "Romance                       3240\n",
       "Classics                      2584\n",
       "Kids & Family                 1713\n",
       "Mystery & Suspense            7222\n",
       "Art House & International     1444\n",
       "Faith & Spirituality            53\n",
       "Documentary                    403\n",
       "Special Interest               406\n",
       "Horror                        2858\n",
       "Animation                      790\n",
       "Western                        497\n",
       "Sports & Fitness               270\n",
       "Musical & Performing Arts      745\n",
       "Television                      66\n",
       "Cult Movies                    124\n",
       "dtype: int64"
      ]
     },
     "execution_count": 52,
     "metadata": {},
     "output_type": "execute_result"
    }
   ],
   "source": [
    "genre_freq"
   ]
  },
  {
   "cell_type": "code",
   "execution_count": 53,
   "id": "645d06c5-b715-45ba-8ee8-507ad0fd2dbe",
   "metadata": {},
   "outputs": [
    {
     "data": {
      "image/png": "[encoded data removed]",
      "text/plain": [
       "<Figure size 640x480 with 1 Axes>"
      ]
     },
     "metadata": {},
     "output_type": "display_data"
    }
   ],
   "source": [
    "sns.barplot(x=genre_freq.values, y=genre_freq.index)\n",
    "plt.ylabel('Genres')\n",
    "plt.xlabel('Frequency')\n",
    "plt.title('Frequency of Genres')\n",
    "plt.show()"
   ]
  },
  {
   "cell_type": "code",
   "execution_count": 54,
   "id": "ae8a20e8-dd74-4203-bd80-685d63d187a9",
   "metadata": {},
   "outputs": [
    {
     "data": {
      "text/plain": [
       "dtype('int64')"
      ]
     },
     "execution_count": 54,
     "metadata": {},
     "output_type": "execute_result"
    }
   ],
   "source": [
    "genre_freq.dtype"
   ]
  },
  {
   "cell_type": "code",
   "execution_count": 55,
   "id": "f400643a-cec7-46d3-b467-712caf42faa5",
   "metadata": {},
   "outputs": [
    {
     "data": {
      "image/png": "[encoded data removed]",
      "text/plain": [
       "<Figure size 1500x1500 with 19 Axes>"
      ]
     },
     "metadata": {},
     "output_type": "display_data"
    }
   ],
   "source": [
    "# Determine grid layout\n",
    "rows = 5\n",
    "cols = 4  # 5 * 4 = 20, which is more than 19. We'll ignore the last subplot.\n",
    "\n",
    "fig, axes = plt.subplots(rows, cols, figsize=(15, 15))  # Adjust figsize as needed\n",
    "\n",
    "# Flatten the axes array for easy iteration\n",
    "axes = axes.flatten()\n",
    "\n",
    "for i in range(19):\n",
    "    ct = pd.crosstab(df_cleaned2[\"tomatometer_status\"], df_cleaned2[all_genres[i]])\n",
    "    ct.plot(kind='bar', stacked=True, ax=axes[i])\n",
    "    # Remove the last (20th) subplot if it's empty\n",
    "\n",
    "fig.delaxes(axes[19])\n",
    "\n",
    "plt.tight_layout()  # Adjust subplot parameters to give specified padding.\n",
    "plt.show()"
   ]
  },
  {
   "cell_type": "code",
   "execution_count": 56,
   "id": "2ee8e7a3-60ce-458f-bfc4-0f4d901c9679",
   "metadata": {},
   "outputs": [],
   "source": [
    "frequencies_fresh = {}\n",
    "for col in all_genres:\n",
    "    frequencies_fresh[col] = df_cleaned2.groupby('tomatometer_status')[col].sum()"
   ]
  },
  {
   "cell_type": "code",
   "execution_count": 57,
   "id": "fdd7b86f-d9a1-4c52-9d1d-4d0b0ea32bbe",
   "metadata": {},
   "outputs": [
    {
     "data": {
      "text/plain": [
       "{'Action & Adventure': tomatometer_status\n",
       " Certified-Fresh    1491\n",
       " Fresh              1149\n",
       " Rotten             3028\n",
       " Name: Action & Adventure, dtype: int64,\n",
       " 'Comedy': tomatometer_status\n",
       " Certified-Fresh    1946\n",
       " Fresh              1166\n",
       " Rotten             3804\n",
       " Name: Comedy, dtype: int64,\n",
       " 'Drama': tomatometer_status\n",
       " Certified-Fresh    5253\n",
       " Fresh              2967\n",
       " Rotten             5455\n",
       " Name: Drama, dtype: int64,\n",
       " 'Science Fiction & Fantasy': tomatometer_status\n",
       " Certified-Fresh    1113\n",
       " Fresh               567\n",
       " Rotten             2525\n",
       " Name: Science Fiction & Fantasy, dtype: int64,\n",
       " 'Romance': tomatometer_status\n",
       " Certified-Fresh    1080\n",
       " Fresh               410\n",
       " Rotten             1750\n",
       " Name: Romance, dtype: int64,\n",
       " 'Classics': tomatometer_status\n",
       " Certified-Fresh    1701\n",
       " Fresh               672\n",
       " Rotten              211\n",
       " Name: Classics, dtype: int64,\n",
       " 'Kids & Family': tomatometer_status\n",
       " Certified-Fresh    306\n",
       " Fresh              431\n",
       " Rotten             976\n",
       " Name: Kids & Family, dtype: int64,\n",
       " 'Mystery & Suspense': tomatometer_status\n",
       " Certified-Fresh    2524\n",
       " Fresh              1383\n",
       " Rotten             3315\n",
       " Name: Mystery & Suspense, dtype: int64,\n",
       " 'Art House & International': tomatometer_status\n",
       " Certified-Fresh    747\n",
       " Fresh              351\n",
       " Rotten             346\n",
       " Name: Art House & International, dtype: int64,\n",
       " 'Faith & Spirituality': tomatometer_status\n",
       " Certified-Fresh     0\n",
       " Fresh              25\n",
       " Rotten             28\n",
       " Name: Faith & Spirituality, dtype: int64,\n",
       " 'Documentary': tomatometer_status\n",
       " Certified-Fresh    126\n",
       " Fresh              255\n",
       " Rotten              22\n",
       " Name: Documentary, dtype: int64,\n",
       " 'Special Interest': tomatometer_status\n",
       " Certified-Fresh     87\n",
       " Fresh              286\n",
       " Rotten              33\n",
       " Name: Special Interest, dtype: int64,\n",
       " 'Horror': tomatometer_status\n",
       " Certified-Fresh     879\n",
       " Fresh               703\n",
       " Rotten             1276\n",
       " Name: Horror, dtype: int64,\n",
       " 'Animation': tomatometer_status\n",
       " Certified-Fresh    133\n",
       " Fresh              161\n",
       " Rotten             496\n",
       " Name: Animation, dtype: int64,\n",
       " 'Western': tomatometer_status\n",
       " Certified-Fresh    348\n",
       " Fresh                0\n",
       " Rotten             149\n",
       " Name: Western, dtype: int64,\n",
       " 'Sports & Fitness': tomatometer_status\n",
       " Certified-Fresh    256\n",
       " Fresh               14\n",
       " Rotten               0\n",
       " Name: Sports & Fitness, dtype: int64,\n",
       " 'Musical & Performing Arts': tomatometer_status\n",
       " Certified-Fresh    205\n",
       " Fresh              184\n",
       " Rotten             356\n",
       " Name: Musical & Performing Arts, dtype: int64,\n",
       " 'Television': tomatometer_status\n",
       " Certified-Fresh    22\n",
       " Fresh              44\n",
       " Rotten              0\n",
       " Name: Television, dtype: int64,\n",
       " 'Cult Movies': tomatometer_status\n",
       " Certified-Fresh    58\n",
       " Fresh              31\n",
       " Rotten             35\n",
       " Name: Cult Movies, dtype: int64}"
      ]
     },
     "execution_count": 57,
     "metadata": {},
     "output_type": "execute_result"
    }
   ],
   "source": [
    "frequencies_fresh"
   ]
  },
  {
   "cell_type": "code",
   "execution_count": 58,
   "id": "e5545232-1f04-4352-b7fb-246ab9735878",
   "metadata": {},
   "outputs": [
    {
     "data": {
      "image/png": "[encoded data removed]",
      "text/plain": [
       "<Figure size 1500x1500 with 19 Axes>"
      ]
     },
     "metadata": {},
     "output_type": "display_data"
    }
   ],
   "source": [
    "# Determine grid layout\n",
    "rows = 5\n",
    "cols = 4  # 5 * 4 = 20, which is more than 19. We'll ignore the last subplot.\n",
    "\n",
    "fig, axes = plt.subplots(rows, cols, figsize=(15, 15))  # Adjust figsize as needed\n",
    "\n",
    "# Flatten the axes array for easy iteration\n",
    "axes = axes.flatten()\n",
    "i = 0\n",
    "for col, freq in frequencies_fresh.items():\n",
    "    sns.barplot(x=freq.index, y=freq.values, ax=axes[i])\n",
    "    axes[i].set_title(f'{col} Freshness Ranking')\n",
    "    i += 1\n",
    "    \n",
    "    \n",
    "# Remove the last (20th) subplot if it's empty   \n",
    "fig.delaxes(axes[19])\n",
    "\n",
    "plt.tight_layout()  # Adjust subplot parameters to give specified padding.\n",
    "plt.show()    "
   ]
  },
  {
   "cell_type": "markdown",
   "id": "27a9f243-2224-4532-a4f6-0ce3fb5314d4",
   "metadata": {},
   "source": [
    "## Prediction"
   ]
  },
  {
   "cell_type": "markdown",
   "id": "7eaaacd3-a2f2-48a5-88d2-021b58e704b6",
   "metadata": {},
   "source": [
    "For rating prediction ('rotten', 'fresh', 'certified fresh'), we will use sentiment analysis on two columsn: 'review_content' and 'critics_consensus'. We start by combining the columns and then cleaning them by removing stopwords, punctuations, digits, and special characters."
   ]
  },
  {
   "cell_type": "code",
   "execution_count": 117,
   "id": "3924543a-64cb-47ed-b361-d0285b876ae3",
   "metadata": {},
   "outputs": [],
   "source": [
    "import re\n",
    "from nltk.corpus import stopwords\n",
    "from nltk.tokenize import RegexpTokenizer\n",
    "from sklearn.feature_extraction.text import ENGLISH_STOP_WORDS, TfidfVectorizer"
   ]
  },
  {
   "cell_type": "code",
   "execution_count": 175,
   "id": "35ec2e53-631b-4391-9377-2d7efe7ace73",
   "metadata": {},
   "outputs": [],
   "source": [
    "def remove_stopwords(text):\n",
    "    stops = set(stopwords.words(\"english\"))\n",
    "    new_text = \" \".join([word for word in text.split() if word not in stops])\n",
    "    return new_text\n",
    "\n",
    "def remove_punct(text):\n",
    "    token = RegexpTokenizer(r'\\w+')\n",
    "    text = token.tokenize(text)\n",
    "    text = \" \".join(text)\n",
    "    return text\n",
    "\n",
    "def remove_digits(text):\n",
    "    pattern = r'[^a-zA-Z.,!?/:;\\\"\\'\\s]'\n",
    "    return re.sub(pattern, '', text)\n",
    "\n",
    "def remove_special_chars(text):\n",
    "    char_pattern = r'[^a-zA-Z0-9.,!?:;\\\"\\'\\s]'\n",
    "    return re.sub(char_pattern, '', text)\n",
    "\n",
    "def lower(text):\n",
    "    return text.lower()\n",
    "    \n",
    "def clean(text):\n",
    "    new_text = remove_stopwords(text)\n",
    "    new_text = remove_punct(new_text)\n",
    "    new_text = remove_digits(new_text)\n",
    "    new_text = remove_special_chars(new_text)\n",
    "    new_text = lower(new_text)\n",
    "    return new_text"
   ]
  },
  {
   "cell_type": "code",
   "execution_count": 133,
   "id": "f17d7258-1834-4479-be68-a75d62804072",
   "metadata": {},
   "outputs": [],
   "source": [
    "df_review_clean = df_cleaned2[['review_content', 'critics_consensus']]"
   ]
  },
  {
   "cell_type": "code",
   "execution_count": 159,
   "id": "0f06bebf-4259-44a0-b007-4cd28a8b9f2e",
   "metadata": {},
   "outputs": [],
   "source": [
    "df_review_clean2 = df_review_clean.copy()\n",
    "df_review_clean2['review + consensus'] = df_review_clean['review_content'] + ' ' + df_review_clean['critics_consensus']"
   ]
  },
  {
   "cell_type": "code",
   "execution_count": 177,
   "id": "3735dce5-f987-4170-8a10-079eb3e66cb7",
   "metadata": {},
   "outputs": [],
   "source": [
    "df_review_clean3 = df_review_clean2.copy()\n",
    "df_review_clean3['clean review + consensus'] = df_review_clean2['review + consensus'].apply(clean)"
   ]
  },
  {
   "cell_type": "code",
   "execution_count": 178,
   "id": "4b7192df-4bc0-4afc-8fc5-d218743b41e1",
   "metadata": {},
   "outputs": [
    {
     "data": {
      "text/html": [
       "<div>\n",
       "<style scoped>\n",
       "    .dataframe tbody tr th:only-of-type {\n",
       "        vertical-align: middle;\n",
       "    }\n",
       "\n",
       "    .dataframe tbody tr th {\n",
       "        vertical-align: top;\n",
       "    }\n",
       "\n",
       "    .dataframe thead th {\n",
       "        text-align: right;\n",
       "    }\n",
       "</style>\n",
       "<table border=\"1\" class=\"dataframe\">\n",
       "  <thead>\n",
       "    <tr style=\"text-align: right;\">\n",
       "      <th></th>\n",
       "      <th>review_content</th>\n",
       "      <th>critics_consensus</th>\n",
       "      <th>review + consensus</th>\n",
       "      <th>clean review + consensus</th>\n",
       "    </tr>\n",
       "  </thead>\n",
       "  <tbody>\n",
       "    <tr>\n",
       "      <th>3</th>\n",
       "      <td>Whether audiences will get behind The Lightnin...</td>\n",
       "      <td>Though it may seem like just another Harry Pot...</td>\n",
       "      <td>Whether audiences will get behind The Lightnin...</td>\n",
       "      <td>whether audiences get behind the lightning thi...</td>\n",
       "    </tr>\n",
       "    <tr>\n",
       "      <th>6</th>\n",
       "      <td>Harry Potter knockoffs don't come more transpa...</td>\n",
       "      <td>Though it may seem like just another Harry Pot...</td>\n",
       "      <td>Harry Potter knockoffs don't come more transpa...</td>\n",
       "      <td>harry potter knockoffs come transparent slapda...</td>\n",
       "    </tr>\n",
       "    <tr>\n",
       "      <th>7</th>\n",
       "      <td>Percy Jackson isn't a great movie, but it's a ...</td>\n",
       "      <td>Though it may seem like just another Harry Pot...</td>\n",
       "      <td>Percy Jackson isn't a great movie, but it's a ...</td>\n",
       "      <td>percy jackson great movie good one trotting ke...</td>\n",
       "    </tr>\n",
       "    <tr>\n",
       "      <th>8</th>\n",
       "      <td>Fun, brisk and imaginative</td>\n",
       "      <td>Though it may seem like just another Harry Pot...</td>\n",
       "      <td>Fun, brisk and imaginative Though it may seem ...</td>\n",
       "      <td>fun brisk imaginative though may seem like ano...</td>\n",
       "    </tr>\n",
       "    <tr>\n",
       "      <th>9</th>\n",
       "      <td>Crammed with dragons, set-destroying fights an...</td>\n",
       "      <td>Though it may seem like just another Harry Pot...</td>\n",
       "      <td>Crammed with dragons, set-destroying fights an...</td>\n",
       "      <td>crammed dragons set destroying fights things e...</td>\n",
       "    </tr>\n",
       "  </tbody>\n",
       "</table>\n",
       "</div>"
      ],
      "text/plain": [
       "                                      review_content  \\\n",
       "3  Whether audiences will get behind The Lightnin...   \n",
       "6  Harry Potter knockoffs don't come more transpa...   \n",
       "7  Percy Jackson isn't a great movie, but it's a ...   \n",
       "8                         Fun, brisk and imaginative   \n",
       "9  Crammed with dragons, set-destroying fights an...   \n",
       "\n",
       "                                   critics_consensus  \\\n",
       "3  Though it may seem like just another Harry Pot...   \n",
       "6  Though it may seem like just another Harry Pot...   \n",
       "7  Though it may seem like just another Harry Pot...   \n",
       "8  Though it may seem like just another Harry Pot...   \n",
       "9  Though it may seem like just another Harry Pot...   \n",
       "\n",
       "                                  review + consensus  \\\n",
       "3  Whether audiences will get behind The Lightnin...   \n",
       "6  Harry Potter knockoffs don't come more transpa...   \n",
       "7  Percy Jackson isn't a great movie, but it's a ...   \n",
       "8  Fun, brisk and imaginative Though it may seem ...   \n",
       "9  Crammed with dragons, set-destroying fights an...   \n",
       "\n",
       "                            clean review + consensus  \n",
       "3  whether audiences get behind the lightning thi...  \n",
       "6  harry potter knockoffs come transparent slapda...  \n",
       "7  percy jackson great movie good one trotting ke...  \n",
       "8  fun brisk imaginative though may seem like ano...  \n",
       "9  crammed dragons set destroying fights things e...  "
      ]
     },
     "execution_count": 178,
     "metadata": {},
     "output_type": "execute_result"
    }
   ],
   "source": [
    "df_review_clean3.head(5)"
   ]
  },
  {
   "cell_type": "markdown",
   "id": "451fed54-3a39-46c9-bddf-6de4f0fcf31f",
   "metadata": {},
   "source": [
    "Now that we have the data ready, we take the X and y sets."
   ]
  },
  {
   "cell_type": "code",
   "execution_count": 187,
   "id": "cc39b92b-f59b-40ed-aa6d-fa8a35ff2a7f",
   "metadata": {},
   "outputs": [],
   "source": [
    "y = df_cleaned2.tomatometer_status"
   ]
  },
  {
   "cell_type": "code",
   "execution_count": 189,
   "id": "da3ab32d-6bdb-4bf1-ab31-7b584e9eb9ea",
   "metadata": {},
   "outputs": [
    {
     "data": {
      "text/plain": [
       "3        Rotten\n",
       "6        Rotten\n",
       "7        Rotten\n",
       "8        Rotten\n",
       "9        Rotten\n",
       "          ...  \n",
       "49988    Rotten\n",
       "49992    Rotten\n",
       "49993    Rotten\n",
       "49994    Rotten\n",
       "49998    Rotten\n",
       "Name: tomatometer_status, Length: 21855, dtype: object"
      ]
     },
     "execution_count": 189,
     "metadata": {},
     "output_type": "execute_result"
    }
   ],
   "source": [
    "y"
   ]
  },
  {
   "cell_type": "code",
   "execution_count": 191,
   "id": "945cf8b7-7c14-48da-9d5c-63d4b5bf7f40",
   "metadata": {},
   "outputs": [],
   "source": [
    "X = df_review_clean3['clean review + consensus']"
   ]
  },
  {
   "cell_type": "code",
   "execution_count": 193,
   "id": "1586f325-729b-44cc-829f-7dc8652c157d",
   "metadata": {},
   "outputs": [
    {
     "data": {
      "text/plain": [
       "(21855,)"
      ]
     },
     "execution_count": 193,
     "metadata": {},
     "output_type": "execute_result"
    }
   ],
   "source": [
    "X.shape"
   ]
  },
  {
   "cell_type": "code",
   "execution_count": 197,
   "id": "29be0028-8d5f-4d7b-8bec-555a3a51a4aa",
   "metadata": {},
   "outputs": [
    {
     "data": {
      "text/plain": [
       "(21855,)"
      ]
     },
     "execution_count": 197,
     "metadata": {},
     "output_type": "execute_result"
    }
   ],
   "source": [
    "y.shape"
   ]
  },
  {
   "cell_type": "code",
   "execution_count": 201,
   "id": "fb4f0111-6f19-4b9d-8a95-b8ce3f125fc1",
   "metadata": {},
   "outputs": [],
   "source": [
    "from numpy import loadtxt\n",
    "from xgboost import XGBClassifier\n",
    "from sklearn.model_selection import train_test_split\n",
    "from sklearn.metrics import accuracy_score\n",
    "from sklearn.preprocessing import LabelEncoder"
   ]
  },
  {
   "cell_type": "markdown",
   "id": "b0af3067-2131-4d94-829e-3deb96c9a77b",
   "metadata": {},
   "source": [
    "Since the target variables are not numerical, we use LabelEncoder to convert them into numerical values."
   ]
  },
  {
   "cell_type": "code",
   "execution_count": 203,
   "id": "ec7016c4-db09-45c9-8545-4310df2befcb",
   "metadata": {},
   "outputs": [],
   "source": [
    "# Initialize LabelEncoder\n",
    "le = LabelEncoder()\n",
    "\n",
    "# Fit and transform\n",
    "y = le.fit_transform(y)"
   ]
  },
  {
   "cell_type": "code",
   "execution_count": 205,
   "id": "141c6af4-160a-42b1-9bb1-af73b42491b2",
   "metadata": {},
   "outputs": [],
   "source": [
    "# split into train and test sets\n",
    "seed = 777\n",
    "test_size = 0.2\n",
    "X_train, X_test, y_train, y_test = train_test_split(X, y, test_size=test_size, stratify=y, random_state=seed)"
   ]
  },
  {
   "cell_type": "code",
   "execution_count": 219,
   "id": "d8ed2a1d-c333-4471-82f2-6f4c04fa549b",
   "metadata": {},
   "outputs": [],
   "source": [
    "tfidf_vectorizer = TfidfVectorizer(lowercase=True, max_features=1000, stop_words='english')\n",
    "tfidf_vectorizer.fit(X_train)\n",
    "X_train_tfidf = tfidf_vectorizer.transform(X_train)\n",
    "X_test_tfidf = tfidf_vectorizer.transform(X_test)"
   ]
  },
  {
   "cell_type": "code",
   "execution_count": 271,
   "id": "fbce6f22-8f5f-46b6-9b5d-124e74f39747",
   "metadata": {},
   "outputs": [
    {
     "data": {
      "text/html": [
       "<style>#sk-container-id-8 {color: black;}#sk-container-id-8 pre{padding: 0;}#sk-container-id-8 div.sk-toggleable {background-color: white;}#sk-container-id-8 label.sk-toggleable__label {cursor: pointer;display: block;width: 100%;margin-bottom: 0;padding: 0.3em;box-sizing: border-box;text-align: center;}#sk-container-id-8 label.sk-toggleable__label-arrow:before {content: \"▸\";float: left;margin-right: 0.25em;color: #696969;}#sk-container-id-8 label.sk-toggleable__label-arrow:hover:before {color: black;}#sk-container-id-8 div.sk-estimator:hover label.sk-toggleable__label-arrow:before {color: black;}#sk-container-id-8 div.sk-toggleable__content {max-height: 0;max-width: 0;overflow: hidden;text-align: left;background-color: #f0f8ff;}#sk-container-id-8 div.sk-toggleable__content pre {margin: 0.2em;color: black;border-radius: 0.25em;background-color: #f0f8ff;}#sk-container-id-8 input.sk-toggleable__control:checked~div.sk-toggleable__content {max-height: 200px;max-width: 100%;overflow: auto;}#sk-container-id-8 input.sk-toggleable__control:checked~label.sk-toggleable__label-arrow:before {content: \"▾\";}#sk-container-id-8 div.sk-estimator input.sk-toggleable__control:checked~label.sk-toggleable__label {background-color: #d4ebff;}#sk-container-id-8 div.sk-label input.sk-toggleable__control:checked~label.sk-toggleable__label {background-color: #d4ebff;}#sk-container-id-8 input.sk-hidden--visually {border: 0;clip: rect(1px 1px 1px 1px);clip: rect(1px, 1px, 1px, 1px);height: 1px;margin: -1px;overflow: hidden;padding: 0;position: absolute;width: 1px;}#sk-container-id-8 div.sk-estimator {font-family: monospace;background-color: #f0f8ff;border: 1px dotted black;border-radius: 0.25em;box-sizing: border-box;margin-bottom: 0.5em;}#sk-container-id-8 div.sk-estimator:hover {background-color: #d4ebff;}#sk-container-id-8 div.sk-parallel-item::after {content: \"\";width: 100%;border-bottom: 1px solid gray;flex-grow: 1;}#sk-container-id-8 div.sk-label:hover label.sk-toggleable__label {background-color: #d4ebff;}#sk-container-id-8 div.sk-serial::before {content: \"\";position: absolute;border-left: 1px solid gray;box-sizing: border-box;top: 0;bottom: 0;left: 50%;z-index: 0;}#sk-container-id-8 div.sk-serial {display: flex;flex-direction: column;align-items: center;background-color: white;padding-right: 0.2em;padding-left: 0.2em;position: relative;}#sk-container-id-8 div.sk-item {position: relative;z-index: 1;}#sk-container-id-8 div.sk-parallel {display: flex;align-items: stretch;justify-content: center;background-color: white;position: relative;}#sk-container-id-8 div.sk-item::before, #sk-container-id-8 div.sk-parallel-item::before {content: \"\";position: absolute;border-left: 1px solid gray;box-sizing: border-box;top: 0;bottom: 0;left: 50%;z-index: -1;}#sk-container-id-8 div.sk-parallel-item {display: flex;flex-direction: column;z-index: 1;position: relative;background-color: white;}#sk-container-id-8 div.sk-parallel-item:first-child::after {align-self: flex-end;width: 50%;}#sk-container-id-8 div.sk-parallel-item:last-child::after {align-self: flex-start;width: 50%;}#sk-container-id-8 div.sk-parallel-item:only-child::after {width: 0;}#sk-container-id-8 div.sk-dashed-wrapped {border: 1px dashed gray;margin: 0 0.4em 0.5em 0.4em;box-sizing: border-box;padding-bottom: 0.4em;background-color: white;}#sk-container-id-8 div.sk-label label {font-family: monospace;font-weight: bold;display: inline-block;line-height: 1.2em;}#sk-container-id-8 div.sk-label-container {text-align: center;}#sk-container-id-8 div.sk-container {/* jupyter's `normalize.less` sets `[hidden] { display: none; }` but bootstrap.min.css set `[hidden] { display: none !important; }` so we also need the `!important` here to be able to override the default hidden behavior on the sphinx rendered scikit-learn.org. See: https://github.com/scikit-learn/scikit-learn/issues/21755 */display: inline-block !important;position: relative;}#sk-container-id-8 div.sk-text-repr-fallback {display: none;}</style><div id=\"sk-container-id-8\" class=\"sk-top-container\"><div class=\"sk-text-repr-fallback\"><pre>XGBClassifier(base_score=None, booster=None, callbacks=None,\n",
       "              colsample_bylevel=None, colsample_bynode=None,\n",
       "              colsample_bytree=None, device=None, early_stopping_rounds=None,\n",
       "              enable_categorical=False, eval_metric=None, feature_types=None,\n",
       "              gamma=None, grow_policy=None, importance_type=None,\n",
       "              interaction_constraints=None, learning_rate=None, max_bin=None,\n",
       "              max_cat_threshold=None, max_cat_to_onehot=None,\n",
       "              max_delta_step=None, max_depth=5, max_leaves=None,\n",
       "              min_child_weight=None, missing=nan, monotone_constraints=None,\n",
       "              multi_strategy=None, n_estimators=1000, n_jobs=None, num_class=3,\n",
       "              num_parallel_tree=None, ...)</pre><b>In a Jupyter environment, please rerun this cell to show the HTML representation or trust the notebook. <br />On GitHub, the HTML representation is unable to render, please try loading this page with nbviewer.org.</b></div><div class=\"sk-container\" hidden><div class=\"sk-item\"><div class=\"sk-estimator sk-toggleable\"><input class=\"sk-toggleable__control sk-hidden--visually\" id=\"sk-estimator-id-8\" type=\"checkbox\" checked><label for=\"sk-estimator-id-8\" class=\"sk-toggleable__label sk-toggleable__label-arrow\">XGBClassifier</label><div class=\"sk-toggleable__content\"><pre>XGBClassifier(base_score=None, booster=None, callbacks=None,\n",
       "              colsample_bylevel=None, colsample_bynode=None,\n",
       "              colsample_bytree=None, device=None, early_stopping_rounds=None,\n",
       "              enable_categorical=False, eval_metric=None, feature_types=None,\n",
       "              gamma=None, grow_policy=None, importance_type=None,\n",
       "              interaction_constraints=None, learning_rate=None, max_bin=None,\n",
       "              max_cat_threshold=None, max_cat_to_onehot=None,\n",
       "              max_delta_step=None, max_depth=5, max_leaves=None,\n",
       "              min_child_weight=None, missing=nan, monotone_constraints=None,\n",
       "              multi_strategy=None, n_estimators=1000, n_jobs=None, num_class=3,\n",
       "              num_parallel_tree=None, ...)</pre></div></div></div></div></div>"
      ],
      "text/plain": [
       "XGBClassifier(base_score=None, booster=None, callbacks=None,\n",
       "              colsample_bylevel=None, colsample_bynode=None,\n",
       "              colsample_bytree=None, device=None, early_stopping_rounds=None,\n",
       "              enable_categorical=False, eval_metric=None, feature_types=None,\n",
       "              gamma=None, grow_policy=None, importance_type=None,\n",
       "              interaction_constraints=None, learning_rate=None, max_bin=None,\n",
       "              max_cat_threshold=None, max_cat_to_onehot=None,\n",
       "              max_delta_step=None, max_depth=5, max_leaves=None,\n",
       "              min_child_weight=None, missing=nan, monotone_constraints=None,\n",
       "              multi_strategy=None, n_estimators=1000, n_jobs=None, num_class=3,\n",
       "              num_parallel_tree=None, ...)"
      ]
     },
     "execution_count": 271,
     "metadata": {},
     "output_type": "execute_result"
    }
   ],
   "source": [
    "# create the model\n",
    "xgb = XGBClassifier(\n",
    "    objective=\"multi:softprob\", \n",
    "    num_class=3,\n",
    "    reg_alpha=0.5,  # L1 Regularization (Lasso)\n",
    "    reg_lambda=1.0,  # L2 Regularization (Ridge)\n",
    "    n_estimators=1000,\n",
    "    max_depth=5\n",
    ")\n",
    "xgb.fit(X_train_tfidf, y_train)"
   ]
  },
  {
   "cell_type": "code",
   "execution_count": 272,
   "id": "5f4a24b5-dd16-4b79-8802-cae262000479",
   "metadata": {},
   "outputs": [],
   "source": [
    "train_pred = xgb.predict(X_train_tfidf)\n",
    "test_pred = xgb.predict(X_test_tfidf)"
   ]
  },
  {
   "cell_type": "code",
   "execution_count": 273,
   "id": "ee5c124b-78bd-423f-8a0a-b86468e9ec74",
   "metadata": {},
   "outputs": [],
   "source": [
    "train_accuracy = accuracy_score(y_true=y_train, y_pred=train_pred)\n",
    "test_accuracy = accuracy_score(y_true=y_test, y_pred=test_pred)"
   ]
  },
  {
   "cell_type": "code",
   "execution_count": 274,
   "id": "b1711b02-c04f-4dab-ad18-83c82a6d0482",
   "metadata": {},
   "outputs": [
    {
     "name": "stdout",
     "output_type": "stream",
     "text": [
      "Train accuracy: 1.0000\n",
      "Test accuracy: 0.9842\n"
     ]
    }
   ],
   "source": [
    "print(f'Train accuracy: {train_accuracy:.4f}')\n",
    "print(f'Test accuracy: {test_accuracy:.4f}')"
   ]
  }
 ],
 "metadata": {
  "kernelspec": {
   "display_name": "Python (nlp-env)",
   "language": "python",
   "name": "nlp-env"
  },
  "language_info": {
   "codemirror_mode": {
    "name": "ipython",
    "version": 3
   },
   "file_extension": ".py",
   "mimetype": "text/x-python",
   "name": "python",
   "nbconvert_exporter": "python",
   "pygments_lexer": "ipython3",
   "version": "3.8.16"
  }
 },
 "nbformat": 4,
 "nbformat_minor": 5
}
